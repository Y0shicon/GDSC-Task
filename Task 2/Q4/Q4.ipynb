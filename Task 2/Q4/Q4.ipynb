{
 "cells": [
  {
   "cell_type": "code",
   "execution_count": 47,
   "metadata": {},
   "outputs": [],
   "source": [
    "import numpy as np\n",
    "import matplotlib.pyplot as plt\n",
    "import pandas as pd"
   ]
  },
  {
   "cell_type": "code",
   "execution_count": 48,
   "metadata": {},
   "outputs": [
    {
     "data": {
      "text/html": [
       "<div>\n",
       "<style scoped>\n",
       "    .dataframe tbody tr th:only-of-type {\n",
       "        vertical-align: middle;\n",
       "    }\n",
       "\n",
       "    .dataframe tbody tr th {\n",
       "        vertical-align: top;\n",
       "    }\n",
       "\n",
       "    .dataframe thead th {\n",
       "        text-align: right;\n",
       "    }\n",
       "</style>\n",
       "<table border=\"1\" class=\"dataframe\">\n",
       "  <thead>\n",
       "    <tr style=\"text-align: right;\">\n",
       "      <th></th>\n",
       "      <th>Timestamp</th>\n",
       "      <th>Email Address</th>\n",
       "      <th>Name</th>\n",
       "      <th>BITS ID</th>\n",
       "      <th>Vertical you wish to apply for</th>\n",
       "    </tr>\n",
       "  </thead>\n",
       "  <tbody>\n",
       "    <tr>\n",
       "      <th>count</th>\n",
       "      <td>679</td>\n",
       "      <td>679</td>\n",
       "      <td>679</td>\n",
       "      <td>679</td>\n",
       "      <td>679</td>\n",
       "    </tr>\n",
       "    <tr>\n",
       "      <th>unique</th>\n",
       "      <td>678</td>\n",
       "      <td>625</td>\n",
       "      <td>637</td>\n",
       "      <td>638</td>\n",
       "      <td>7</td>\n",
       "    </tr>\n",
       "    <tr>\n",
       "      <th>top</th>\n",
       "      <td>9/10/2023 1:47:17</td>\n",
       "      <td>f20230242@pilani.bits-pilani.ac.in</td>\n",
       "      <td>Devesh saraogi</td>\n",
       "      <td>F2023A2PS0242P</td>\n",
       "      <td>AI/ML</td>\n",
       "    </tr>\n",
       "    <tr>\n",
       "      <th>freq</th>\n",
       "      <td>2</td>\n",
       "      <td>3</td>\n",
       "      <td>3</td>\n",
       "      <td>3</td>\n",
       "      <td>195</td>\n",
       "    </tr>\n",
       "  </tbody>\n",
       "</table>\n",
       "</div>"
      ],
      "text/plain": [
       "                Timestamp                       Email Address            Name  \\\n",
       "count                 679                                 679             679   \n",
       "unique                678                                 625             637   \n",
       "top     9/10/2023 1:47:17  f20230242@pilani.bits-pilani.ac.in  Devesh saraogi   \n",
       "freq                    2                                   3               3   \n",
       "\n",
       "               BITS ID Vertical you wish to apply for  \n",
       "count              679                            679  \n",
       "unique             638                              7  \n",
       "top     F2023A2PS0242P                          AI/ML  \n",
       "freq                 3                            195  "
      ]
     },
     "execution_count": 48,
     "metadata": {},
     "output_type": "execute_result"
    }
   ],
   "source": [
    "df = pd.read_csv('applicants(given).csv')\n",
    "df.describe()"
   ]
  },
  {
   "cell_type": "markdown",
   "metadata": {},
   "source": [
    "#### _Removing duplicates_"
   ]
  },
  {
   "cell_type": "markdown",
   "metadata": {},
   "source": [
    "We will be using email addresses as a sort of primary key to remove duplicates in the form"
   ]
  },
  {
   "cell_type": "code",
   "execution_count": 49,
   "metadata": {},
   "outputs": [
    {
     "data": {
      "text/html": [
       "<div>\n",
       "<style scoped>\n",
       "    .dataframe tbody tr th:only-of-type {\n",
       "        vertical-align: middle;\n",
       "    }\n",
       "\n",
       "    .dataframe tbody tr th {\n",
       "        vertical-align: top;\n",
       "    }\n",
       "\n",
       "    .dataframe thead th {\n",
       "        text-align: right;\n",
       "    }\n",
       "</style>\n",
       "<table border=\"1\" class=\"dataframe\">\n",
       "  <thead>\n",
       "    <tr style=\"text-align: right;\">\n",
       "      <th></th>\n",
       "      <th>Timestamp</th>\n",
       "      <th>Email Address</th>\n",
       "      <th>Name</th>\n",
       "      <th>BITS ID</th>\n",
       "      <th>Vertical you wish to apply for</th>\n",
       "    </tr>\n",
       "  </thead>\n",
       "  <tbody>\n",
       "    <tr>\n",
       "      <th>0</th>\n",
       "      <td>2023-09-08 13:51:34</td>\n",
       "      <td>f20200148@pilani.bits-pilani.ac.in</td>\n",
       "      <td>Deep Pandya</td>\n",
       "      <td>2020A7PS0148P</td>\n",
       "      <td>AI/ML</td>\n",
       "    </tr>\n",
       "    <tr>\n",
       "      <th>1</th>\n",
       "      <td>2023-09-08 07:13:12</td>\n",
       "      <td>f20210134@pilani.bits-pilani.ac.in</td>\n",
       "      <td>Navya Krishnia</td>\n",
       "      <td>2021A4PS0134P</td>\n",
       "      <td>App-Dev</td>\n",
       "    </tr>\n",
       "    <tr>\n",
       "      <th>2</th>\n",
       "      <td>2023-09-06 22:34:02</td>\n",
       "      <td>f20211192@pilani.bits-pilani.ac.in</td>\n",
       "      <td>Anirudh Jaimini</td>\n",
       "      <td>2021B3A21192P</td>\n",
       "      <td>AI/ML</td>\n",
       "    </tr>\n",
       "    <tr>\n",
       "      <th>3</th>\n",
       "      <td>2023-09-08 14:11:32</td>\n",
       "      <td>f20211209@pilani.bits-pilani.ac.in</td>\n",
       "      <td>Aaditya Prasad</td>\n",
       "      <td>2021B5A41209P</td>\n",
       "      <td>App-Dev</td>\n",
       "    </tr>\n",
       "    <tr>\n",
       "      <th>4</th>\n",
       "      <td>2023-09-06 21:24:48</td>\n",
       "      <td>f20211589@pilani.bits-pilani.ac.in</td>\n",
       "      <td>Devraj Singh Sandhu</td>\n",
       "      <td>2021A1PS1589P</td>\n",
       "      <td>Competitive Coding</td>\n",
       "    </tr>\n",
       "    <tr>\n",
       "      <th>...</th>\n",
       "      <td>...</td>\n",
       "      <td>...</td>\n",
       "      <td>...</td>\n",
       "      <td>...</td>\n",
       "      <td>...</td>\n",
       "    </tr>\n",
       "    <tr>\n",
       "      <th>674</th>\n",
       "      <td>2023-09-08 22:28:19</td>\n",
       "      <td>f20231325@pilani.bits-pilani.ac.in</td>\n",
       "      <td>Aarav Shah</td>\n",
       "      <td>2023B5PS1325P</td>\n",
       "      <td>Back-End</td>\n",
       "    </tr>\n",
       "    <tr>\n",
       "      <th>675</th>\n",
       "      <td>2023-09-07 12:42:44</td>\n",
       "      <td>f20231334@pilani.bits-pilani.ac.in</td>\n",
       "      <td>Manas Mehta</td>\n",
       "      <td>2023B1PS1334P</td>\n",
       "      <td>Back-End</td>\n",
       "    </tr>\n",
       "    <tr>\n",
       "      <th>676</th>\n",
       "      <td>2023-09-09 22:56:40</td>\n",
       "      <td>f20231335@pilani.bits-pilani.ac.in</td>\n",
       "      <td>Nishit Garg</td>\n",
       "      <td>2023B1PS1335</td>\n",
       "      <td>Back-End</td>\n",
       "    </tr>\n",
       "    <tr>\n",
       "      <th>677</th>\n",
       "      <td>2023-09-07 10:29:28</td>\n",
       "      <td>f20231343@pilani.bits-pilani.ac.in</td>\n",
       "      <td>Sanyam jhamar</td>\n",
       "      <td>23023A8PS1343P</td>\n",
       "      <td>Front-End</td>\n",
       "    </tr>\n",
       "    <tr>\n",
       "      <th>678</th>\n",
       "      <td>2023-09-10 19:42:29</td>\n",
       "      <td>f20231344@pilani.bits-pilani.ac.in</td>\n",
       "      <td>Kshiitij Mathur</td>\n",
       "      <td>2023A8PS1344</td>\n",
       "      <td>AI/ML</td>\n",
       "    </tr>\n",
       "  </tbody>\n",
       "</table>\n",
       "<p>625 rows × 5 columns</p>\n",
       "</div>"
      ],
      "text/plain": [
       "              Timestamp                       Email Address  \\\n",
       "0   2023-09-08 13:51:34  f20200148@pilani.bits-pilani.ac.in   \n",
       "1   2023-09-08 07:13:12  f20210134@pilani.bits-pilani.ac.in   \n",
       "2   2023-09-06 22:34:02  f20211192@pilani.bits-pilani.ac.in   \n",
       "3   2023-09-08 14:11:32  f20211209@pilani.bits-pilani.ac.in   \n",
       "4   2023-09-06 21:24:48  f20211589@pilani.bits-pilani.ac.in   \n",
       "..                  ...                                 ...   \n",
       "674 2023-09-08 22:28:19  f20231325@pilani.bits-pilani.ac.in   \n",
       "675 2023-09-07 12:42:44  f20231334@pilani.bits-pilani.ac.in   \n",
       "676 2023-09-09 22:56:40  f20231335@pilani.bits-pilani.ac.in   \n",
       "677 2023-09-07 10:29:28  f20231343@pilani.bits-pilani.ac.in   \n",
       "678 2023-09-10 19:42:29  f20231344@pilani.bits-pilani.ac.in   \n",
       "\n",
       "                     Name         BITS ID Vertical you wish to apply for  \n",
       "0            Deep Pandya    2020A7PS0148P                          AI/ML  \n",
       "1          Navya Krishnia   2021A4PS0134P                        App-Dev  \n",
       "2        Anirudh Jaimini    2021B3A21192P                          AI/ML  \n",
       "3          Aaditya Prasad   2021B5A41209P                        App-Dev  \n",
       "4    Devraj Singh Sandhu    2021A1PS1589P             Competitive Coding  \n",
       "..                    ...             ...                            ...  \n",
       "674            Aarav Shah   2023B5PS1325P                       Back-End  \n",
       "675           Manas Mehta   2023B1PS1334P                       Back-End  \n",
       "676           Nishit Garg    2023B1PS1335                       Back-End  \n",
       "677        Sanyam jhamar   23023A8PS1343P                      Front-End  \n",
       "678       Kshiitij Mathur    2023A8PS1344                          AI/ML  \n",
       "\n",
       "[625 rows x 5 columns]"
      ]
     },
     "execution_count": 49,
     "metadata": {},
     "output_type": "execute_result"
    }
   ],
   "source": [
    "# Convert Timestamp to datetime\n",
    "df[\"Timestamp\"] = pd.to_datetime(df[\"Timestamp\"])\n",
    "\n",
    "# Using email address as primary key to remove duplicates\n",
    "# df = df.drop_duplicates(subset=['BITS ID'])\n",
    "df = df.drop_duplicates(subset=['Email Address'])\n",
    "df"
   ]
  },
  {
   "cell_type": "markdown",
   "metadata": {},
   "source": [
    "#### _Order applicants in chronological order of submission of form._"
   ]
  },
  {
   "cell_type": "code",
   "execution_count": 50,
   "metadata": {},
   "outputs": [
    {
     "data": {
      "text/html": [
       "<div>\n",
       "<style scoped>\n",
       "    .dataframe tbody tr th:only-of-type {\n",
       "        vertical-align: middle;\n",
       "    }\n",
       "\n",
       "    .dataframe tbody tr th {\n",
       "        vertical-align: top;\n",
       "    }\n",
       "\n",
       "    .dataframe thead th {\n",
       "        text-align: right;\n",
       "    }\n",
       "</style>\n",
       "<table border=\"1\" class=\"dataframe\">\n",
       "  <thead>\n",
       "    <tr style=\"text-align: right;\">\n",
       "      <th></th>\n",
       "      <th>Timestamp</th>\n",
       "      <th>Email Address</th>\n",
       "      <th>Name</th>\n",
       "      <th>BITS ID</th>\n",
       "      <th>Vertical you wish to apply for</th>\n",
       "    </tr>\n",
       "  </thead>\n",
       "  <tbody>\n",
       "    <tr>\n",
       "      <th>214</th>\n",
       "      <td>2023-09-06 16:59:16</td>\n",
       "      <td>f20221227@pilani.bits-pilani.ac.in</td>\n",
       "      <td>Krishay</td>\n",
       "      <td>2022A3PS1227P</td>\n",
       "      <td>Design</td>\n",
       "    </tr>\n",
       "    <tr>\n",
       "      <th>617</th>\n",
       "      <td>2023-09-06 21:20:33</td>\n",
       "      <td>f20231053@pilani.bits-pilani.ac.in</td>\n",
       "      <td>Shourin Chakraborty</td>\n",
       "      <td>2023B4PS1053P</td>\n",
       "      <td>Back-End</td>\n",
       "    </tr>\n",
       "    <tr>\n",
       "      <th>43</th>\n",
       "      <td>2023-09-06 21:23:02</td>\n",
       "      <td>f20220124@pilani.bits-pilani.ac.in</td>\n",
       "      <td>Vishnu Chebolu</td>\n",
       "      <td>2022A7PS0124P</td>\n",
       "      <td>Competitive Coding</td>\n",
       "    </tr>\n",
       "    <tr>\n",
       "      <th>322</th>\n",
       "      <td>2023-09-06 21:23:56</td>\n",
       "      <td>f20230185@goa.bits-pilani.ac.in</td>\n",
       "      <td>Shashank sadashiv</td>\n",
       "      <td>2023A3PS0185G</td>\n",
       "      <td>Back-End</td>\n",
       "    </tr>\n",
       "    <tr>\n",
       "      <th>509</th>\n",
       "      <td>2023-09-06 21:24:18</td>\n",
       "      <td>f20230653@pilani.bits-pilani.ac.in</td>\n",
       "      <td>VULLI ABHINAV</td>\n",
       "      <td>2023A7PS0653P</td>\n",
       "      <td>Front-End</td>\n",
       "    </tr>\n",
       "    <tr>\n",
       "      <th>...</th>\n",
       "      <td>...</td>\n",
       "      <td>...</td>\n",
       "      <td>...</td>\n",
       "      <td>...</td>\n",
       "      <td>...</td>\n",
       "    </tr>\n",
       "    <tr>\n",
       "      <th>138</th>\n",
       "      <td>2023-09-11 23:26:02</td>\n",
       "      <td>f20220920@pilani.bits-pilani.ac.in</td>\n",
       "      <td>Sahitya Singh</td>\n",
       "      <td>2022B4A70920P</td>\n",
       "      <td>Back-End</td>\n",
       "    </tr>\n",
       "    <tr>\n",
       "      <th>552</th>\n",
       "      <td>2023-09-12 00:16:04</td>\n",
       "      <td>f20230771@pilani.bits-pilani.ac.in</td>\n",
       "      <td>Yash Sahoo</td>\n",
       "      <td>2023AAPS0771P</td>\n",
       "      <td>Competitive Coding</td>\n",
       "    </tr>\n",
       "    <tr>\n",
       "      <th>568</th>\n",
       "      <td>2023-09-12 00:25:33</td>\n",
       "      <td>f20230831@pilani.bits-pilani.ac.in</td>\n",
       "      <td>vyoma kalra</td>\n",
       "      <td>2023B1PS0831P</td>\n",
       "      <td>App-Dev</td>\n",
       "    </tr>\n",
       "    <tr>\n",
       "      <th>60</th>\n",
       "      <td>2023-09-12 02:17:01</td>\n",
       "      <td>f20220247@pilani.bits-pilani.ac.in</td>\n",
       "      <td>Lakshya Jain</td>\n",
       "      <td>2022AAPS0247P</td>\n",
       "      <td>Front-End</td>\n",
       "    </tr>\n",
       "    <tr>\n",
       "      <th>297</th>\n",
       "      <td>2023-09-13 12:52:52</td>\n",
       "      <td>f20221741@pilani.bits-pilani.ac.in</td>\n",
       "      <td>Abhi Nebhnani</td>\n",
       "      <td>2022B2PS1741P</td>\n",
       "      <td>Design</td>\n",
       "    </tr>\n",
       "  </tbody>\n",
       "</table>\n",
       "<p>625 rows × 5 columns</p>\n",
       "</div>"
      ],
      "text/plain": [
       "              Timestamp                       Email Address  \\\n",
       "214 2023-09-06 16:59:16  f20221227@pilani.bits-pilani.ac.in   \n",
       "617 2023-09-06 21:20:33  f20231053@pilani.bits-pilani.ac.in   \n",
       "43  2023-09-06 21:23:02  f20220124@pilani.bits-pilani.ac.in   \n",
       "322 2023-09-06 21:23:56     f20230185@goa.bits-pilani.ac.in   \n",
       "509 2023-09-06 21:24:18  f20230653@pilani.bits-pilani.ac.in   \n",
       "..                  ...                                 ...   \n",
       "138 2023-09-11 23:26:02  f20220920@pilani.bits-pilani.ac.in   \n",
       "552 2023-09-12 00:16:04  f20230771@pilani.bits-pilani.ac.in   \n",
       "568 2023-09-12 00:25:33  f20230831@pilani.bits-pilani.ac.in   \n",
       "60  2023-09-12 02:17:01  f20220247@pilani.bits-pilani.ac.in   \n",
       "297 2023-09-13 12:52:52  f20221741@pilani.bits-pilani.ac.in   \n",
       "\n",
       "                    Name        BITS ID Vertical you wish to apply for  \n",
       "214              Krishay  2022A3PS1227P                         Design  \n",
       "617  Shourin Chakraborty  2023B4PS1053P                       Back-End  \n",
       "43        Vishnu Chebolu  2022A7PS0124P             Competitive Coding  \n",
       "322    Shashank sadashiv  2023A3PS0185G                       Back-End  \n",
       "509       VULLI ABHINAV   2023A7PS0653P                      Front-End  \n",
       "..                   ...            ...                            ...  \n",
       "138       Sahitya Singh   2022B4A70920P                       Back-End  \n",
       "552           Yash Sahoo  2023AAPS0771P             Competitive Coding  \n",
       "568         vyoma kalra   2023B1PS0831P                        App-Dev  \n",
       "60          Lakshya Jain  2022AAPS0247P                      Front-End  \n",
       "297        Abhi Nebhnani  2022B2PS1741P                         Design  \n",
       "\n",
       "[625 rows x 5 columns]"
      ]
     },
     "execution_count": 50,
     "metadata": {},
     "output_type": "execute_result"
    }
   ],
   "source": [
    "#sort by timestamp\n",
    "df = df.sort_values(by=['Timestamp'])\n",
    "df"
   ]
  },
  {
   "cell_type": "markdown",
   "metadata": {},
   "source": [
    "#### Checking if there are any duplicates in the emails, name or ids"
   ]
  },
  {
   "cell_type": "code",
   "execution_count": 51,
   "metadata": {},
   "outputs": [
    {
     "data": {
      "text/html": [
       "<div>\n",
       "<style scoped>\n",
       "    .dataframe tbody tr th:only-of-type {\n",
       "        vertical-align: middle;\n",
       "    }\n",
       "\n",
       "    .dataframe tbody tr th {\n",
       "        vertical-align: top;\n",
       "    }\n",
       "\n",
       "    .dataframe thead th {\n",
       "        text-align: right;\n",
       "    }\n",
       "</style>\n",
       "<table border=\"1\" class=\"dataframe\">\n",
       "  <thead>\n",
       "    <tr style=\"text-align: right;\">\n",
       "      <th></th>\n",
       "      <th>Timestamp</th>\n",
       "      <th>Email Address</th>\n",
       "      <th>Name</th>\n",
       "      <th>BITS ID</th>\n",
       "      <th>Vertical you wish to apply for</th>\n",
       "    </tr>\n",
       "  </thead>\n",
       "  <tbody>\n",
       "    <tr>\n",
       "      <th>469</th>\n",
       "      <td>2023-09-07 13:20:46</td>\n",
       "      <td>f20230551@pilani.bits-pilani.ac.in</td>\n",
       "      <td>Dhruv Gupta</td>\n",
       "      <td>f20230551@pilani.bits-pilani.ac.in</td>\n",
       "      <td>Competitive Coding</td>\n",
       "    </tr>\n",
       "    <tr>\n",
       "      <th>382</th>\n",
       "      <td>2023-09-07 15:02:35</td>\n",
       "      <td>f20230355@goa.bits-pilani.ac.in</td>\n",
       "      <td>Dhruv Gupta</td>\n",
       "      <td>2023A7PS0355G</td>\n",
       "      <td>AI/ML</td>\n",
       "    </tr>\n",
       "  </tbody>\n",
       "</table>\n",
       "</div>"
      ],
      "text/plain": [
       "              Timestamp                       Email Address          Name  \\\n",
       "469 2023-09-07 13:20:46  f20230551@pilani.bits-pilani.ac.in  Dhruv Gupta    \n",
       "382 2023-09-07 15:02:35     f20230355@goa.bits-pilani.ac.in  Dhruv Gupta    \n",
       "\n",
       "                                BITS ID Vertical you wish to apply for  \n",
       "469  f20230551@pilani.bits-pilani.ac.in             Competitive Coding  \n",
       "382                       2023A7PS0355G                          AI/ML  "
      ]
     },
     "execution_count": 51,
     "metadata": {},
     "output_type": "execute_result"
    }
   ],
   "source": [
    "# showinng the non-unique email addresses\n",
    "df[df['Name'].duplicated(keep=False)]"
   ]
  },
  {
   "cell_type": "code",
   "execution_count": 52,
   "metadata": {},
   "outputs": [
    {
     "data": {
      "text/html": [
       "<div>\n",
       "<style scoped>\n",
       "    .dataframe tbody tr th:only-of-type {\n",
       "        vertical-align: middle;\n",
       "    }\n",
       "\n",
       "    .dataframe tbody tr th {\n",
       "        vertical-align: top;\n",
       "    }\n",
       "\n",
       "    .dataframe thead th {\n",
       "        text-align: right;\n",
       "    }\n",
       "</style>\n",
       "<table border=\"1\" class=\"dataframe\">\n",
       "  <thead>\n",
       "    <tr style=\"text-align: right;\">\n",
       "      <th></th>\n",
       "      <th>Timestamp</th>\n",
       "      <th>Email Address</th>\n",
       "      <th>Name</th>\n",
       "      <th>BITS ID</th>\n",
       "      <th>Vertical you wish to apply for</th>\n",
       "    </tr>\n",
       "  </thead>\n",
       "  <tbody>\n",
       "  </tbody>\n",
       "</table>\n",
       "</div>"
      ],
      "text/plain": [
       "Empty DataFrame\n",
       "Columns: [Timestamp, Email Address, Name, BITS ID, Vertical you wish to apply for]\n",
       "Index: []"
      ]
     },
     "execution_count": 52,
     "metadata": {},
     "output_type": "execute_result"
    }
   ],
   "source": [
    "df[df['Email Address'].duplicated(keep=False)]"
   ]
  },
  {
   "cell_type": "code",
   "execution_count": 53,
   "metadata": {},
   "outputs": [
    {
     "data": {
      "text/html": [
       "<div>\n",
       "<style scoped>\n",
       "    .dataframe tbody tr th:only-of-type {\n",
       "        vertical-align: middle;\n",
       "    }\n",
       "\n",
       "    .dataframe tbody tr th {\n",
       "        vertical-align: top;\n",
       "    }\n",
       "\n",
       "    .dataframe thead th {\n",
       "        text-align: right;\n",
       "    }\n",
       "</style>\n",
       "<table border=\"1\" class=\"dataframe\">\n",
       "  <thead>\n",
       "    <tr style=\"text-align: right;\">\n",
       "      <th></th>\n",
       "      <th>Timestamp</th>\n",
       "      <th>Email Address</th>\n",
       "      <th>Name</th>\n",
       "      <th>BITS ID</th>\n",
       "      <th>Vertical you wish to apply for</th>\n",
       "    </tr>\n",
       "  </thead>\n",
       "  <tbody>\n",
       "  </tbody>\n",
       "</table>\n",
       "</div>"
      ],
      "text/plain": [
       "Empty DataFrame\n",
       "Columns: [Timestamp, Email Address, Name, BITS ID, Vertical you wish to apply for]\n",
       "Index: []"
      ]
     },
     "execution_count": 53,
     "metadata": {},
     "output_type": "execute_result"
    }
   ],
   "source": [
    "df[df['BITS ID'].duplicated(keep=False)]"
   ]
  },
  {
   "cell_type": "markdown",
   "metadata": {},
   "source": [
    "#### _Some people have written slightly incorrect IDs, like some people have added an F, while some have accidentally provided their emails. Fix this._"
   ]
  },
  {
   "cell_type": "code",
   "execution_count": 54,
   "metadata": {},
   "outputs": [
    {
     "data": {
      "text/plain": [
       "Timestamp                         datetime64[ns]\n",
       "Email Address                             object\n",
       "Name                                      object\n",
       "BITS ID                                   object\n",
       "Vertical you wish to apply for            object\n",
       "dtype: object"
      ]
     },
     "execution_count": 54,
     "metadata": {},
     "output_type": "execute_result"
    }
   ],
   "source": [
    "# convert object to string\n",
    "df[\"BITS ID\"] = df[\"BITS ID\"].astype(str)\n",
    "df.dtypes"
   ]
  },
  {
   "cell_type": "code",
   "execution_count": 174,
   "metadata": {},
   "outputs": [],
   "source": [
    "condition1 = df['BITS ID'].str[0].str.lower() == 'f'\n",
    "condition2 = df['BITS ID'].str.endswith('in')\n",
    "# Replace the values in the BITS ID column where they put email address instead of BITS ID with \"NO ID Given\"\n",
    "df.loc[condition1 & condition2, \"BITS ID\"] = \"No ID Given\" "
   ]
  },
  {
   "cell_type": "code",
   "execution_count": 175,
   "metadata": {},
   "outputs": [
    {
     "name": "stderr",
     "output_type": "stream",
     "text": [
      "/var/folders/yw/g5dzx43n0w92csjc3pypf8mc0000gp/T/ipykernel_13594/1643296695.py:2: FutureWarning: The default value of regex will change from True to False in a future version.\n",
      "  df['BITS ID'] = df['BITS ID'].str.replace('[fF]', '')\n"
     ]
    }
   ],
   "source": [
    "#Removing the F from the BITS ID\n",
    "df['BITS ID'] = df['BITS ID'].str.replace('[fF]', '')"
   ]
  },
  {
   "cell_type": "code",
   "execution_count": 176,
   "metadata": {},
   "outputs": [],
   "source": [
    "# Adding P to the end of the BITS ID for the students who have not added it\n",
    "condition = df['BITS ID'].str.endswith('P') == False\n",
    "df.loc[condition, \"BITS ID\"] = df.loc[condition, \"BITS ID\"] + \"P\""
   ]
  },
  {
   "cell_type": "markdown",
   "metadata": {},
   "source": [
    "#### _Draw matplotlib graphs of people from different verticals and years._"
   ]
  },
  {
   "cell_type": "code",
   "execution_count": 177,
   "metadata": {},
   "outputs": [
    {
     "data": {
      "text/html": [
       "<div>\n",
       "<style scoped>\n",
       "    .dataframe tbody tr th:only-of-type {\n",
       "        vertical-align: middle;\n",
       "    }\n",
       "\n",
       "    .dataframe tbody tr th {\n",
       "        vertical-align: top;\n",
       "    }\n",
       "\n",
       "    .dataframe thead th {\n",
       "        text-align: right;\n",
       "    }\n",
       "</style>\n",
       "<table border=\"1\" class=\"dataframe\">\n",
       "  <thead>\n",
       "    <tr style=\"text-align: right;\">\n",
       "      <th></th>\n",
       "      <th>Total Applicants</th>\n",
       "    </tr>\n",
       "  </thead>\n",
       "  <tbody>\n",
       "    <tr>\n",
       "      <th>AI/ML</th>\n",
       "      <td>184</td>\n",
       "    </tr>\n",
       "    <tr>\n",
       "      <th>Competitive Coding</th>\n",
       "      <td>135</td>\n",
       "    </tr>\n",
       "    <tr>\n",
       "      <th>Back-End</th>\n",
       "      <td>95</td>\n",
       "    </tr>\n",
       "    <tr>\n",
       "      <th>Front-End</th>\n",
       "      <td>91</td>\n",
       "    </tr>\n",
       "    <tr>\n",
       "      <th>App-Dev</th>\n",
       "      <td>49</td>\n",
       "    </tr>\n",
       "    <tr>\n",
       "      <th>Cybersecurity</th>\n",
       "      <td>39</td>\n",
       "    </tr>\n",
       "    <tr>\n",
       "      <th>Design</th>\n",
       "      <td>32</td>\n",
       "    </tr>\n",
       "  </tbody>\n",
       "</table>\n",
       "</div>"
      ],
      "text/plain": [
       "                    Total Applicants\n",
       "AI/ML                            184\n",
       "Competitive Coding               135\n",
       "Back-End                          95\n",
       "Front-End                         91\n",
       "App-Dev                           49\n",
       "Cybersecurity                     39\n",
       "Design                            32"
      ]
     },
     "execution_count": 177,
     "metadata": {},
     "output_type": "execute_result"
    }
   ],
   "source": [
    "# get the unique values of the Vericals applied for\n",
    "all_vertical = df['Vertical you wish to apply for'].unique()\n",
    "all_batches = np.array([\"2019\",\"2020\",\"2021\",\"2022\",\"2023\"])\n",
    "\n",
    "# Making a dictionary of the verticals and their corresponding count of applicants with respect to their batch\n",
    "vertical_dict = {}\n",
    "total_vertical_dict = {}\n",
    "\n",
    "for i in all_vertical:\n",
    "    vertical_dict[i] = {}\n",
    "    total_vertical_dict[i] = (df['Vertical you wish to apply for'] == i).sum()\n",
    "    for j in all_batches:\n",
    "        condition1 = df['Vertical you wish to apply for'] == i\n",
    "        condition2 = df['Email Address'].str.contains(j)\n",
    "        vertical_dict[i][j] = (condition1 & condition2).sum()\n",
    "\n",
    "# Sorting the dictionary in descending order\n",
    "total_vertical_dict = dict(sorted(total_vertical_dict.items(), key=lambda item: item[1], reverse=True))\n",
    "total_vertical_dict = pd.DataFrame.from_dict(total_vertical_dict, orient='index', columns=['Total Applicants'])\n",
    "total_vertical_dict = total_vertical_dict.reindex(sorted(total_vertical_dict.columns), axis=1)\n",
    "total_vertical_dict\n"
   ]
  },
  {
   "cell_type": "code",
   "execution_count": 178,
   "metadata": {},
   "outputs": [
    {
     "data": {
      "text/html": [
       "<div>\n",
       "<style scoped>\n",
       "    .dataframe tbody tr th:only-of-type {\n",
       "        vertical-align: middle;\n",
       "    }\n",
       "\n",
       "    .dataframe tbody tr th {\n",
       "        vertical-align: top;\n",
       "    }\n",
       "\n",
       "    .dataframe thead th {\n",
       "        text-align: right;\n",
       "    }\n",
       "</style>\n",
       "<table border=\"1\" class=\"dataframe\">\n",
       "  <thead>\n",
       "    <tr style=\"text-align: right;\">\n",
       "      <th></th>\n",
       "      <th>AI/ML</th>\n",
       "      <th>App-Dev</th>\n",
       "      <th>Back-End</th>\n",
       "      <th>Competitive Coding</th>\n",
       "      <th>Cybersecurity</th>\n",
       "      <th>Design</th>\n",
       "      <th>Front-End</th>\n",
       "      <th>Total</th>\n",
       "    </tr>\n",
       "  </thead>\n",
       "  <tbody>\n",
       "    <tr>\n",
       "      <th>2019</th>\n",
       "      <td>0</td>\n",
       "      <td>0</td>\n",
       "      <td>0</td>\n",
       "      <td>0</td>\n",
       "      <td>0</td>\n",
       "      <td>0</td>\n",
       "      <td>0</td>\n",
       "      <td>0</td>\n",
       "    </tr>\n",
       "    <tr>\n",
       "      <th>2020</th>\n",
       "      <td>1</td>\n",
       "      <td>0</td>\n",
       "      <td>0</td>\n",
       "      <td>0</td>\n",
       "      <td>0</td>\n",
       "      <td>0</td>\n",
       "      <td>0</td>\n",
       "      <td>1</td>\n",
       "    </tr>\n",
       "    <tr>\n",
       "      <th>2021</th>\n",
       "      <td>5</td>\n",
       "      <td>3</td>\n",
       "      <td>0</td>\n",
       "      <td>2</td>\n",
       "      <td>0</td>\n",
       "      <td>0</td>\n",
       "      <td>1</td>\n",
       "      <td>11</td>\n",
       "    </tr>\n",
       "    <tr>\n",
       "      <th>2022</th>\n",
       "      <td>73</td>\n",
       "      <td>21</td>\n",
       "      <td>37</td>\n",
       "      <td>60</td>\n",
       "      <td>8</td>\n",
       "      <td>21</td>\n",
       "      <td>44</td>\n",
       "      <td>264</td>\n",
       "    </tr>\n",
       "    <tr>\n",
       "      <th>2023</th>\n",
       "      <td>106</td>\n",
       "      <td>25</td>\n",
       "      <td>58</td>\n",
       "      <td>74</td>\n",
       "      <td>31</td>\n",
       "      <td>11</td>\n",
       "      <td>46</td>\n",
       "      <td>351</td>\n",
       "    </tr>\n",
       "  </tbody>\n",
       "</table>\n",
       "</div>"
      ],
      "text/plain": [
       "      AI/ML  App-Dev  Back-End  Competitive Coding  Cybersecurity  Design  \\\n",
       "2019      0        0         0                   0              0       0   \n",
       "2020      1        0         0                   0              0       0   \n",
       "2021      5        3         0                   2              0       0   \n",
       "2022     73       21        37                  60              8      21   \n",
       "2023    106       25        58                  74             31      11   \n",
       "\n",
       "      Front-End  Total  \n",
       "2019          0      0  \n",
       "2020          0      1  \n",
       "2021          1     11  \n",
       "2022         44    264  \n",
       "2023         46    351  "
      ]
     },
     "execution_count": 178,
     "metadata": {},
     "output_type": "execute_result"
    }
   ],
   "source": [
    "# Converting the dictionary to a dataframe\n",
    "vertical_dict = pd.DataFrame(vertical_dict)\n",
    "# vertical_dict = vertical_dict.transpose()\n",
    "\n",
    "# Adding the total column\n",
    "vertical_dict['Total'] = vertical_dict.sum(axis=1)\n",
    "\n",
    "# Sorting the columns and rows\n",
    "vertical_dict = vertical_dict.reindex(sorted(vertical_dict.columns), axis=1)\n",
    "vertical_dict = vertical_dict.reindex(sorted(vertical_dict.index), axis=0)\n",
    "\n",
    "vertical_dict"
   ]
  },
  {
   "cell_type": "code",
   "execution_count": 179,
   "metadata": {},
   "outputs": [
    {
     "data": {
      "text/html": [
       "<div>\n",
       "<style scoped>\n",
       "    .dataframe tbody tr th:only-of-type {\n",
       "        vertical-align: middle;\n",
       "    }\n",
       "\n",
       "    .dataframe tbody tr th {\n",
       "        vertical-align: top;\n",
       "    }\n",
       "\n",
       "    .dataframe thead th {\n",
       "        text-align: right;\n",
       "    }\n",
       "</style>\n",
       "<table border=\"1\" class=\"dataframe\">\n",
       "  <thead>\n",
       "    <tr style=\"text-align: right;\">\n",
       "      <th></th>\n",
       "      <th>2019</th>\n",
       "      <th>2020</th>\n",
       "      <th>2021</th>\n",
       "      <th>2022</th>\n",
       "      <th>2023</th>\n",
       "    </tr>\n",
       "  </thead>\n",
       "  <tbody>\n",
       "    <tr>\n",
       "      <th>AI/ML</th>\n",
       "      <td>0</td>\n",
       "      <td>1</td>\n",
       "      <td>5</td>\n",
       "      <td>73</td>\n",
       "      <td>106</td>\n",
       "    </tr>\n",
       "    <tr>\n",
       "      <th>App-Dev</th>\n",
       "      <td>0</td>\n",
       "      <td>0</td>\n",
       "      <td>3</td>\n",
       "      <td>21</td>\n",
       "      <td>25</td>\n",
       "    </tr>\n",
       "    <tr>\n",
       "      <th>Back-End</th>\n",
       "      <td>0</td>\n",
       "      <td>0</td>\n",
       "      <td>0</td>\n",
       "      <td>37</td>\n",
       "      <td>58</td>\n",
       "    </tr>\n",
       "    <tr>\n",
       "      <th>Competitive Coding</th>\n",
       "      <td>0</td>\n",
       "      <td>0</td>\n",
       "      <td>2</td>\n",
       "      <td>60</td>\n",
       "      <td>74</td>\n",
       "    </tr>\n",
       "    <tr>\n",
       "      <th>Cybersecurity</th>\n",
       "      <td>0</td>\n",
       "      <td>0</td>\n",
       "      <td>0</td>\n",
       "      <td>8</td>\n",
       "      <td>31</td>\n",
       "    </tr>\n",
       "    <tr>\n",
       "      <th>Design</th>\n",
       "      <td>0</td>\n",
       "      <td>0</td>\n",
       "      <td>0</td>\n",
       "      <td>21</td>\n",
       "      <td>11</td>\n",
       "    </tr>\n",
       "    <tr>\n",
       "      <th>Front-End</th>\n",
       "      <td>0</td>\n",
       "      <td>0</td>\n",
       "      <td>1</td>\n",
       "      <td>44</td>\n",
       "      <td>46</td>\n",
       "    </tr>\n",
       "  </tbody>\n",
       "</table>\n",
       "</div>"
      ],
      "text/plain": [
       "                    2019  2020  2021  2022  2023\n",
       "AI/ML                  0     1     5    73   106\n",
       "App-Dev                0     0     3    21    25\n",
       "Back-End               0     0     0    37    58\n",
       "Competitive Coding     0     0     2    60    74\n",
       "Cybersecurity          0     0     0     8    31\n",
       "Design                 0     0     0    21    11\n",
       "Front-End              0     0     1    44    46"
      ]
     },
     "execution_count": 179,
     "metadata": {},
     "output_type": "execute_result"
    }
   ],
   "source": [
    "# Removing the total column\n",
    "vertical_df = vertical_dict.drop(columns=['Total'])\n",
    "\n",
    "vertical_df = vertical_df.transpose()\n",
    "\n",
    "# Sorting the df by alphabetical order of the verticals\n",
    "vertical_df = vertical_df.reindex(sorted(vertical_df.columns), axis=1)\n",
    "# Sorting the df by alphabetical order of the batches\n",
    "vertical_df = vertical_df.reindex(sorted(vertical_df.index), axis=0)\n",
    "\n",
    "vertical_df"
   ]
  },
  {
   "cell_type": "markdown",
   "metadata": {},
   "source": [
    "### Make the following graphs:\n",
    "1. Verticals vs Total Applicants\n",
    "2. Verticals vs Total Applicants vs Batch\n",
    "3. Verticals vs Batch\n",
    "4. Verticals vs Batch vs Total Applicants"
   ]
  },
  {
   "cell_type": "code",
   "execution_count": 185,
   "metadata": {},
   "outputs": [
    {
     "data": {
      "text/plain": [
       "<Axes: >"
      ]
     },
     "execution_count": 185,
     "metadata": {},
     "output_type": "execute_result"
    },
    {
     "data": {
      "image/png": "[encoded data removed]",
      "text/plain": [
       "<Figure size 1000x500 with 1 Axes>"
      ]
     },
     "metadata": {},
     "output_type": "display_data"
    }
   ],
   "source": [
    "# 1. Verticals vs Total Applicants\n",
    "total_vertical_dict.plot(kind='bar', figsize=(10, 5))"
   ]
  },
  {
   "cell_type": "code",
   "execution_count": 197,
   "metadata": {},
   "outputs": [
    {
     "data": {
      "text/plain": [
       "array([<Axes: ylabel='Total Applicants'>], dtype=object)"
      ]
     },
     "execution_count": 197,
     "metadata": {},
     "output_type": "execute_result"
    },
    {
     "data": {
      "image/png": "[encoded data removed]",
      "text/plain": [
       "<Figure size 1500x1500 with 1 Axes>"
      ]
     },
     "metadata": {},
     "output_type": "display_data"
    }
   ],
   "source": [
    "# 1. Verticals vs Total Applicants\n",
    "total_vertical_dict.plot(kind='pie', subplots=True, figsize=(15, 15))"
   ]
  },
  {
   "cell_type": "code",
   "execution_count": 198,
   "metadata": {},
   "outputs": [
    {
     "data": {
      "text/plain": [
       "<Axes: >"
      ]
     },
     "execution_count": 198,
     "metadata": {},
     "output_type": "execute_result"
    },
    {
     "data": {
      "image/png": "[encoded data removed]",
      "text/plain": [
       "<Figure size 1000x500 with 1 Axes>"
      ]
     },
     "metadata": {},
     "output_type": "display_data"
    }
   ],
   "source": [
    "# 2. Verticals vs Total Applicants vs Batch\n",
    "vertical_dict.plot(kind='bar', figsize=(10, 5))"
   ]
  },
  {
   "cell_type": "code",
   "execution_count": 199,
   "metadata": {},
   "outputs": [
    {
     "data": {
      "text/plain": [
       "<Axes: >"
      ]
     },
     "execution_count": 199,
     "metadata": {},
     "output_type": "execute_result"
    },
    {
     "data": {
      "image/png": "[encoded data removed]",
      "text/plain": [
       "<Figure size 1000x500 with 1 Axes>"
      ]
     },
     "metadata": {},
     "output_type": "display_data"
    }
   ],
   "source": [
    "# 3. Verticals vs Batch\n",
    "vertical_df.plot(kind='bar', figsize=(10, 5))"
   ]
  },
  {
   "cell_type": "code",
   "execution_count": 200,
   "metadata": {},
   "outputs": [
    {
     "data": {
      "text/plain": [
       "<Axes: >"
      ]
     },
     "execution_count": 200,
     "metadata": {},
     "output_type": "execute_result"
    },
    {
     "data": {
      "image/png": "[encoded data removed]",
      "text/plain": [
       "<Figure size 1000x500 with 1 Axes>"
      ]
     },
     "metadata": {},
     "output_type": "display_data"
    }
   ],
   "source": [
    "# 4. Verticals vs Batch vs Total Applicants\n",
    "vertical_df.plot(kind='bar', stacked=True, figsize=(10, 5))"
   ]
  },
  {
   "cell_type": "markdown",
   "metadata": {},
   "source": [
    "#### _Save this data as applicants.csv._"
   ]
  },
  {
   "cell_type": "code",
   "execution_count": 201,
   "metadata": {},
   "outputs": [],
   "source": [
    "df.to_csv('applicants.csv', index=False)"
   ]
  },
  {
   "cell_type": "markdown",
   "metadata": {},
   "source": [
    "#### _Segregate people into different verticals and save this data as aiml.csv, frontend.csv, appd.csv and so on._"
   ]
  },
  {
   "cell_type": "code",
   "execution_count": 212,
   "metadata": {},
   "outputs": [
    {
     "name": "stdout",
     "output_type": "stream",
     "text": [
      "Design\n",
      "Back-End\n",
      "Competitive Coding\n",
      "Front-End\n",
      "AIML\n",
      "App-Dev\n",
      "Cybersecurity\n"
     ]
    }
   ],
   "source": [
    "for i in all_vertical:\n",
    "    print(i.replace('/', ''))\n",
    "    df[df['Vertical you wish to apply for'] == i].to_csv(i.replace('/', '') + '.csv', index=False)"
   ]
  }
 ],
 "metadata": {
  "kernelspec": {
   "display_name": "base",
   "language": "python",
   "name": "python3"
  },
  "language_info": {
   "codemirror_mode": {
    "name": "ipython",
    "version": 3
   },
   "file_extension": ".py",
   "mimetype": "text/x-python",
   "name": "python",
   "nbconvert_exporter": "python",
   "pygments_lexer": "ipython3",
   "version": "3.11.4"
  },
  "orig_nbformat": 4
 },
 "nbformat": 4,
 "nbformat_minor": 2
}
