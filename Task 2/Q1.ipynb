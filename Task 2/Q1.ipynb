{
 "cells": [
  {
   "cell_type": "code",
   "execution_count": null,
   "metadata": {},
   "outputs": [],
   "source": [
    "import numpy as np\n"
   ]
  },
  {
   "cell_type": "markdown",
   "metadata": {},
   "source": [
    "#### Print the numpy version and the configuration.\n"
   ]
  },
  {
   "cell_type": "code",
   "execution_count": null,
   "metadata": {},
   "outputs": [],
   "source": [
    "# print numpy version\n",
    "print(np.__version__)\n",
    "print(np.show_config())\n"
   ]
  },
  {
   "cell_type": "markdown",
   "metadata": {},
   "source": [
    "#### Initialise a vector that contains numbers from 1 to 20 and reverse it vector (first element becomes last).\n"
   ]
  },
  {
   "cell_type": "code",
   "execution_count": null,
   "metadata": {},
   "outputs": [],
   "source": [
    "array = np.arange(1, 21)\n",
    "reversed_array = np.flip(array)\n",
    "print(\"Normal Array : \", array)\n",
    "print(\"Reversed Array : \", reversed_array)"
   ]
  },
  {
   "cell_type": "markdown",
   "metadata": {},
   "source": [
    "#### Create a 3x3 array with random values and find the minimum and maximum value.\n"
   ]
  },
  {
   "cell_type": "code",
   "execution_count": null,
   "metadata": {},
   "outputs": [],
   "source": [
    "# Create a 3x3 array with random integers in the range 1-20\n",
    "matrix = np.random.randint(1, 20, (3, 3))\n",
    "print(matrix)\n",
    "\n",
    "# Find the minimum and maximum value\n",
    "min_val = matrix.min()\n",
    "max_val = matrix.max()\n",
    "\n",
    "print(\"Minimum value:\", min_val)\n",
    "print(\"Maximum value:\", max_val)\n"
   ]
  },
  {
   "cell_type": "markdown",
   "metadata": {},
   "source": [
    "#### Consider a (5,5,8) shape array, what is the index (x,y,z) of the 100th element?\n"
   ]
  },
  {
   "cell_type": "code",
   "execution_count": null,
   "metadata": {},
   "outputs": [],
   "source": [
    "random_array = np.random.random((5, 5, 8))\n",
    "\n",
    "# Docs mention the following:\n",
    "# numpy.unravel_index(indices, shape, order='C')\n",
    "index = np.unravel_index(99, random_array.shape)\n",
    "\n",
    "print(\"Index of the 100th element:\", index)"
   ]
  },
  {
   "cell_type": "markdown",
   "metadata": {},
   "source": [
    "#### How to find common values between two arrays? Demonstrate.\n"
   ]
  },
  {
   "cell_type": "markdown",
   "metadata": {},
   "source": [
    "We can use intersect1d() to find the common elements between two array <br>\n",
    "Docs : <br>\n",
    "`numpy.intersect1d(ar1, ar2, assume_unique=False, return_indices=False)`<br>\n",
    "Find the intersection of two arrays. <br>\n",
    "Return the sorted, unique values that are in both of the input arrays.\n"
   ]
  },
  {
   "cell_type": "code",
   "execution_count": null,
   "metadata": {},
   "outputs": [],
   "source": [
    "#  We use the intersect1d() function to find the common elements between two arrays\n",
    "array1 = np.random.randint(0, 10, 10)\n",
    "array2 = np.random.randint(0, 10, 10)\n",
    "\n",
    "print(\"Array 1:\", array1)\n",
    "print(\"Array 2:\", array2)\n",
    "\n",
    "common_elements = np.intersect1d(array1, array2)\n",
    "print(\"Common elements:\", common_elements)"
   ]
  },
  {
   "cell_type": "markdown",
   "metadata": {},
   "source": [
    "#### Consider a random 10x2 matrix representing cartesian coordinates, convert them to polar coordinates.\n"
   ]
  },
  {
   "cell_type": "code",
   "execution_count": 24,
   "metadata": {},
   "outputs": [
    {
     "name": "stdout",
     "output_type": "stream",
     "text": [
      "Carteisan Coordinattes : \n",
      " [[ 6  8]\n",
      " [16  7]\n",
      " [14 15]\n",
      " [ 9  9]\n",
      " [ 5 17]\n",
      " [ 6 13]\n",
      " [19 11]\n",
      " [ 2 10]\n",
      " [17 18]\n",
      " [10 12]]\n",
      "Polar Coordinated : \n",
      " [[10.   53.13]\n",
      " [17.46 23.63]\n",
      " [20.52 46.97]\n",
      " [12.73 45.  ]\n",
      " [17.72 73.61]\n",
      " [14.32 65.22]\n",
      " [21.95 30.07]\n",
      " [10.2  78.69]\n",
      " [24.76 46.64]\n",
      " [15.62 50.19]]\n"
     ]
    }
   ],
   "source": [
    "# create a 10x2 numpy array with random cartesian coordinates\n",
    "cartesian_coords = np.random.randint(1, 20, (10, 2))\n",
    "\n",
    "# print the cartesian coordinates\n",
    "print(\"Carteisan Coordinattes : \\n\", cartesian_coords)\n",
    "\n",
    "# convert cartesian coordinates to polar coordinates\n",
    "x = cartesian_coords[:, 0]\n",
    "y = cartesian_coords[:, 1]\n",
    "\n",
    "r = np.round(np.sqrt(x**2 + y**2), 2)\n",
    "# theta = np.round(np.arctan2(y, x) * 180 / np.pi, 2)\n",
    "theta = np.round(np.rad2deg(np.arctan2(y, x)), 2)\n",
    "\n",
    "polar_coords = np.column_stack((r, theta))\n",
    "\n",
    "# print the resulting polar coordinates\n",
    "print(\"Polar Coordinated : \\n\", polar_coords)"
   ]
  },
  {
   "cell_type": "markdown",
   "metadata": {},
   "source": [
    "#### Demonstrate printing all the values of an array."
   ]
  },
  {
   "cell_type": "code",
   "execution_count": 22,
   "metadata": {},
   "outputs": [
    {
     "name": "stdout",
     "output_type": "stream",
     "text": [
      "Array :  [[ 1  2  3  4  5  6  7  8  9 10]]\n"
     ]
    }
   ],
   "source": [
    "arr = np.array([[1, 2, 3, 4, 5], [6, 7, 8, 9, 10]])\n",
    "print(\"Array : \", arr.reshape(1, arr.size))"
   ]
  },
  {
   "cell_type": "markdown",
   "metadata": {},
   "source": [
    "#### How to convert a float (32 bits) array into an integer (32 bits) in place? Demonstrate using an example. [Use NumPy Datatypes]"
   ]
  },
  {
   "cell_type": "code",
   "execution_count": 25,
   "metadata": {},
   "outputs": [
    {
     "name": "stdout",
     "output_type": "stream",
     "text": [
      "[1 2 3]\n"
     ]
    }
   ],
   "source": [
    "# create a float32 numpy array\n",
    "float_array = np.array([1.2, 2.3, 3.4], dtype=np.float32)\n",
    "\n",
    "# convert the float32 array to an int32 array in place\n",
    "int_array = float_array.astype(np.int32, copy=False)\n",
    "\n",
    "# print the resulting int32 array\n",
    "print(int_array)"
   ]
  },
  {
   "cell_type": "code",
   "execution_count": null,
   "metadata": {},
   "outputs": [],
   "source": []
  }
 ],
 "metadata": {
  "kernelspec": {
   "display_name": "base",
   "language": "python",
   "name": "python3"
  },
  "language_info": {
   "codemirror_mode": {
    "name": "ipython",
    "version": 3
   },
   "file_extension": ".py",
   "mimetype": "text/x-python",
   "name": "python",
   "nbconvert_exporter": "python",
   "pygments_lexer": "ipython3",
   "version": "3.11.4"
  },
  "orig_nbformat": 4
 },
 "nbformat": 4,
 "nbformat_minor": 2
}
