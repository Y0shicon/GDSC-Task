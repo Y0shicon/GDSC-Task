{
 "cells": [
  {
   "cell_type": "code",
   "execution_count": 1,
   "metadata": {},
   "outputs": [],
   "source": [
    "import numpy as np\n"
   ]
  },
  {
   "cell_type": "markdown",
   "metadata": {},
   "source": [
    "#### Print the numpy version and the configuration.\n"
   ]
  },
  {
   "cell_type": "code",
   "execution_count": 2,
   "metadata": {},
   "outputs": [
    {
     "name": "stdout",
     "output_type": "stream",
     "text": [
      "1.23.5\n",
      "openblas64__info:\n",
      "    libraries = ['openblas64_', 'openblas64_']\n",
      "    library_dirs = ['/usr/local/lib']\n",
      "    language = c\n",
      "    define_macros = [('HAVE_CBLAS', None), ('BLAS_SYMBOL_SUFFIX', '64_'), ('HAVE_BLAS_ILP64', None)]\n",
      "    runtime_library_dirs = ['/usr/local/lib']\n",
      "blas_ilp64_opt_info:\n",
      "    libraries = ['openblas64_', 'openblas64_']\n",
      "    library_dirs = ['/usr/local/lib']\n",
      "    language = c\n",
      "    define_macros = [('HAVE_CBLAS', None), ('BLAS_SYMBOL_SUFFIX', '64_'), ('HAVE_BLAS_ILP64', None)]\n",
      "    runtime_library_dirs = ['/usr/local/lib']\n",
      "openblas64__lapack_info:\n",
      "    libraries = ['openblas64_', 'openblas64_']\n",
      "    library_dirs = ['/usr/local/lib']\n",
      "    language = c\n",
      "    define_macros = [('HAVE_CBLAS', None), ('BLAS_SYMBOL_SUFFIX', '64_'), ('HAVE_BLAS_ILP64', None), ('HAVE_LAPACKE', None)]\n",
      "    runtime_library_dirs = ['/usr/local/lib']\n",
      "lapack_ilp64_opt_info:\n",
      "    libraries = ['openblas64_', 'openblas64_']\n",
      "    library_dirs = ['/usr/local/lib']\n",
      "    language = c\n",
      "    define_macros = [('HAVE_CBLAS', None), ('BLAS_SYMBOL_SUFFIX', '64_'), ('HAVE_BLAS_ILP64', None), ('HAVE_LAPACKE', None)]\n",
      "    runtime_library_dirs = ['/usr/local/lib']\n",
      "Supported SIMD extensions in this NumPy install:\n",
      "    baseline = NEON,NEON_FP16,NEON_VFPV4,ASIMD\n",
      "    found = ASIMDHP\n",
      "    not found = ASIMDDP,ASIMDFHM\n",
      "None\n"
     ]
    }
   ],
   "source": [
    "# print numpy version\n",
    "print(np.__version__)\n",
    "print(np.show_config())\n"
   ]
  },
  {
   "cell_type": "markdown",
   "metadata": {},
   "source": [
    "#### Initialise a vector that contains numbers from 1 to 20 and reverse it vector (first element becomes last).\n"
   ]
  },
  {
   "cell_type": "code",
   "execution_count": 3,
   "metadata": {},
   "outputs": [
    {
     "name": "stdout",
     "output_type": "stream",
     "text": [
      "Normal Array :  [ 1  2  3  4  5  6  7  8  9 10 11 12 13 14 15 16 17 18 19 20]\n",
      "Reversed Array :  [20 19 18 17 16 15 14 13 12 11 10  9  8  7  6  5  4  3  2  1]\n"
     ]
    }
   ],
   "source": [
    "array = np.arange(1, 21)\n",
    "reversed_array = np.flip(array)\n",
    "print(\"Normal Array : \", array)\n",
    "print(\"Reversed Array : \", reversed_array)"
   ]
  },
  {
   "cell_type": "markdown",
   "metadata": {},
   "source": [
    "#### Create a 3x3 array with random values and find the minimum and maximum value.\n"
   ]
  },
  {
   "cell_type": "code",
   "execution_count": 4,
   "metadata": {},
   "outputs": [
    {
     "name": "stdout",
     "output_type": "stream",
     "text": [
      "[[ 3 17  5]\n",
      " [ 4 10 14]\n",
      " [ 9  6  3]]\n",
      "Minimum value: 3\n",
      "Maximum value: 17\n"
     ]
    }
   ],
   "source": [
    "# Create a 3x3 array with random integers in the range 1-20\n",
    "matrix = np.random.randint(1, 20, (3, 3))\n",
    "print(matrix)\n",
    "\n",
    "# Find the minimum and maximum value\n",
    "min_val = matrix.min()\n",
    "max_val = matrix.max()\n",
    "\n",
    "print(\"Minimum value:\", min_val)\n",
    "print(\"Maximum value:\", max_val)\n"
   ]
  },
  {
   "cell_type": "markdown",
   "metadata": {},
   "source": [
    "#### Consider a (5,5,8) shape array, what is the index (x,y,z) of the 100th element?\n"
   ]
  },
  {
   "cell_type": "code",
   "execution_count": 5,
   "metadata": {},
   "outputs": [
    {
     "name": "stdout",
     "output_type": "stream",
     "text": [
      "Index of the 100th element: (2, 2, 3)\n"
     ]
    }
   ],
   "source": [
    "random_array = np.random.random((5, 5, 8))\n",
    "\n",
    "# Docs mention the following:\n",
    "# numpy.unravel_index(indices, shape, order='C')\n",
    "index = np.unravel_index(99, random_array.shape)\n",
    "\n",
    "print(\"Index of the 100th element:\", index)"
   ]
  },
  {
   "cell_type": "markdown",
   "metadata": {},
   "source": [
    "#### How to find common values between two arrays? Demonstrate.\n"
   ]
  },
  {
   "cell_type": "markdown",
   "metadata": {},
   "source": [
    "We can use intersect1d() to find the common elements between two array <br>\n",
    "Docs : <br>\n",
    "`numpy.intersect1d(ar1, ar2, assume_unique=False, return_indices=False)`<br>\n",
    "Find the intersection of two arrays. <br>\n",
    "Return the sorted, unique values that are in both of the input arrays.\n"
   ]
  },
  {
   "cell_type": "code",
   "execution_count": 10,
   "metadata": {},
   "outputs": [
    {
     "name": "stdout",
     "output_type": "stream",
     "text": [
      "Array 1: [ 1 10  8  7  7  4  8  8  1  1]\n",
      "Array 2: [ 2  7  6  9  1  4  9  2 10  5]\n",
      "Common elements: [ 1  4  7 10]\n"
     ]
    }
   ],
   "source": [
    "#  We use the intersect1d() function to find the common elements between two arrays\n",
    "array1 = np.random.randint(0, 11, 10)\n",
    "array2 = np.random.randint(0, 11, 10)\n",
    "\n",
    "print(\"Array 1:\", array1)\n",
    "print(\"Array 2:\", array2)\n",
    "\n",
    "common_elements = np.intersect1d(array1, array2)\n",
    "print(\"Common elements:\", common_elements)"
   ]
  },
  {
   "cell_type": "markdown",
   "metadata": {},
   "source": [
    "#### Consider a random 10x2 matrix representing cartesian coordinates, convert them to polar coordinates.\n"
   ]
  },
  {
   "cell_type": "code",
   "execution_count": 7,
   "metadata": {},
   "outputs": [
    {
     "name": "stdout",
     "output_type": "stream",
     "text": [
      "Carteisan Coordinattes : \n",
      " [[11 16]\n",
      " [ 5 17]\n",
      " [16 14]\n",
      " [11  2]\n",
      " [14 16]\n",
      " [ 1 16]\n",
      " [11  8]\n",
      " [13  6]\n",
      " [ 9  2]\n",
      " [18 13]]\n",
      "Polar Coordinated : \n",
      " [[19.42 55.49]\n",
      " [17.72 73.61]\n",
      " [21.26 41.19]\n",
      " [11.18 10.3 ]\n",
      " [21.26 48.81]\n",
      " [16.03 86.42]\n",
      " [13.6  36.03]\n",
      " [14.32 24.78]\n",
      " [ 9.22 12.53]\n",
      " [22.2  35.84]]\n"
     ]
    }
   ],
   "source": [
    "# create a 10x2 numpy array with random cartesian coordinates\n",
    "cartesian_coords = np.random.randint(1, 20, (10, 2))\n",
    "\n",
    "# print the cartesian coordinates\n",
    "print(\"Carteisan Coordinattes : \\n\", cartesian_coords)\n",
    "\n",
    "# convert cartesian coordinates to polar coordinates\n",
    "x = cartesian_coords[:, 0]\n",
    "y = cartesian_coords[:, 1]\n",
    "\n",
    "r = np.round(np.sqrt(x**2 + y**2), 2)\n",
    "# theta = np.round(np.arctan2(y, x) * 180 / np.pi, 2)\n",
    "theta = np.round(np.rad2deg(np.arctan2(y, x)), 2)\n",
    "\n",
    "polar_coords = np.column_stack((r, theta))\n",
    "\n",
    "# print the resulting polar coordinates\n",
    "print(\"Polar Coordinated : \\n\", polar_coords)"
   ]
  },
  {
   "cell_type": "markdown",
   "metadata": {},
   "source": [
    "#### Demonstrate printing all the values of an array."
   ]
  },
  {
   "cell_type": "code",
   "execution_count": 8,
   "metadata": {},
   "outputs": [
    {
     "name": "stdout",
     "output_type": "stream",
     "text": [
      "Array :  [[ 1  2  3  4  5  6  7  8  9 10]]\n"
     ]
    }
   ],
   "source": [
    "arr = np.array([[1, 2, 3, 4, 5], [6, 7, 8, 9, 10]])\n",
    "print(\"Array : \", arr.reshape(1, arr.size))"
   ]
  },
  {
   "cell_type": "markdown",
   "metadata": {},
   "source": [
    "#### How to convert a float (32 bits) array into an integer (32 bits) in place? Demonstrate using an example. [Use NumPy Datatypes]"
   ]
  },
  {
   "cell_type": "code",
   "execution_count": 9,
   "metadata": {},
   "outputs": [
    {
     "name": "stdout",
     "output_type": "stream",
     "text": [
      "[1 2 3]\n"
     ]
    }
   ],
   "source": [
    "# create a float32 numpy array\n",
    "float_array = np.array([1.2, 2.3, 3.4], dtype=np.float32)\n",
    "\n",
    "# convert the float32 array to an int32 array in place\n",
    "int_array = float_array.astype(np.int32, copy=False)\n",
    "\n",
    "# print the resulting int32 array\n",
    "print(int_array)"
   ]
  },
  {
   "cell_type": "code",
   "execution_count": null,
   "metadata": {},
   "outputs": [],
   "source": []
  }
 ],
 "metadata": {
  "kernelspec": {
   "display_name": "base",
   "language": "python",
   "name": "python3"
  },
  "language_info": {
   "codemirror_mode": {
    "name": "ipython",
    "version": 3
   },
   "file_extension": ".py",
   "mimetype": "text/x-python",
   "name": "python",
   "nbconvert_exporter": "python",
   "pygments_lexer": "ipython3",
   "version": "3.11.4"
  },
  "orig_nbformat": 4
 },
 "nbformat": 4,
 "nbformat_minor": 2
}
