{
 "cells": [
  {
   "cell_type": "code",
   "execution_count": 1,
   "metadata": {},
   "outputs": [],
   "source": [
    "import numpy as np\n",
    "import pandas as pd\n",
    "import matplotlib.pyplot as plt\n",
    "import seaborn as sns\n",
    "import torch as tch\n",
    "from torch.utils.data import DataLoader\n",
    "import torchvision.datasets as dt\n",
    "import torchvision.transforms as trans\n",
    "import torch.nn as nn\n",
    "\n",
    "from time import time\n"
   ]
  },
  {
   "cell_type": "code",
   "execution_count": 2,
   "metadata": {},
   "outputs": [
    {
     "name": "stdout",
     "output_type": "stream",
     "text": [
      "Downloading http://yann.lecun.com/exdb/mnist/train-images-idx3-ubyte.gz\n",
      "Downloading http://yann.lecun.com/exdb/mnist/train-images-idx3-ubyte.gz to ./datasets/MNIST/raw/train-images-idx3-ubyte.gz\n"
     ]
    },
    {
     "name": "stderr",
     "output_type": "stream",
     "text": [
      "100%|██████████| 9912422/9912422 [00:01<00:00, 7319649.43it/s] \n"
     ]
    },
    {
     "name": "stdout",
     "output_type": "stream",
     "text": [
      "Extracting ./datasets/MNIST/raw/train-images-idx3-ubyte.gz to ./datasets/MNIST/raw\n",
      "\n",
      "Downloading http://yann.lecun.com/exdb/mnist/train-labels-idx1-ubyte.gz\n",
      "Downloading http://yann.lecun.com/exdb/mnist/train-labels-idx1-ubyte.gz to ./datasets/MNIST/raw/train-labels-idx1-ubyte.gz\n"
     ]
    },
    {
     "name": "stderr",
     "output_type": "stream",
     "text": [
      "100%|██████████| 28881/28881 [00:00<00:00, 25289288.90it/s]\n"
     ]
    },
    {
     "name": "stdout",
     "output_type": "stream",
     "text": [
      "Extracting ./datasets/MNIST/raw/train-labels-idx1-ubyte.gz to ./datasets/MNIST/raw\n",
      "\n",
      "Downloading http://yann.lecun.com/exdb/mnist/t10k-images-idx3-ubyte.gz\n",
      "Downloading http://yann.lecun.com/exdb/mnist/t10k-images-idx3-ubyte.gz to ./datasets/MNIST/raw/t10k-images-idx3-ubyte.gz\n"
     ]
    },
    {
     "name": "stderr",
     "output_type": "stream",
     "text": [
      "100%|██████████| 1648877/1648877 [00:00<00:00, 2554985.66it/s]\n"
     ]
    },
    {
     "name": "stdout",
     "output_type": "stream",
     "text": [
      "Extracting ./datasets/MNIST/raw/t10k-images-idx3-ubyte.gz to ./datasets/MNIST/raw\n",
      "\n",
      "Downloading http://yann.lecun.com/exdb/mnist/t10k-labels-idx1-ubyte.gz\n",
      "Downloading http://yann.lecun.com/exdb/mnist/t10k-labels-idx1-ubyte.gz to ./datasets/MNIST/raw/t10k-labels-idx1-ubyte.gz\n"
     ]
    },
    {
     "name": "stderr",
     "output_type": "stream",
     "text": [
      "100%|██████████| 4542/4542 [00:00<00:00, 6153.40it/s]"
     ]
    },
    {
     "name": "stdout",
     "output_type": "stream",
     "text": [
      "Extracting ./datasets/MNIST/raw/t10k-labels-idx1-ubyte.gz to ./datasets/MNIST/raw\n",
      "\n"
     ]
    },
    {
     "name": "stderr",
     "output_type": "stream",
     "text": [
      "\n"
     ]
    }
   ],
   "source": [
    "train = dt.MNIST(root=\"./datasets\", train=True,\n",
    "                 transform=trans.ToTensor(), download=True)\n",
    "test = dt.MNIST(root=\"./datasets\", train=False,\n",
    "                transform=trans.ToTensor(), download=True)"
   ]
  },
  {
   "cell_type": "code",
   "execution_count": 3,
   "metadata": {},
   "outputs": [
    {
     "name": "stdout",
     "output_type": "stream",
     "text": [
      "No. of Training examples:  60000\n",
      "No. of Test examples:  10000\n"
     ]
    }
   ],
   "source": [
    "print(\"No. of Training examples: \", len(train))\n",
    "print(\"No. of Test examples: \", len(test))"
   ]
  },
  {
   "cell_type": "code",
   "execution_count": 4,
   "metadata": {},
   "outputs": [
    {
     "name": "stdout",
     "output_type": "stream",
     "text": [
      "\n",
      "The Number is :  7 \n",
      "\n"
     ]
    },
    {
     "data": {
      "image/png": "[encoded data removed]",
      "text/plain": [
       "<Figure size 640x480 with 1 Axes>"
      ]
     },
     "metadata": {},
     "output_type": "display_data"
    }
   ],
   "source": [
    "# to display the first image in test dataset along with its corresponding number\n",
    "image, label = test[0]\n",
    "plt.imshow(image.numpy().squeeze(), cmap='gray_r')\n",
    "print(\"\\nThe Number is : \", label, \"\\n\")"
   ]
  },
  {
   "cell_type": "code",
   "execution_count": 5,
   "metadata": {},
   "outputs": [
    {
     "name": "stdout",
     "output_type": "stream",
     "text": [
      "torch.Size([1, 28, 28])\n",
      "<class 'int'>\n"
     ]
    }
   ],
   "source": [
    "print(image.shape)  # shape of the image\n",
    "print(type(label))  # shape of the label"
   ]
  },
  {
   "cell_type": "code",
   "execution_count": 6,
   "metadata": {},
   "outputs": [],
   "source": [
    "train_batch = DataLoader(train, batch_size=30, shuffle=True)"
   ]
  },
  {
   "cell_type": "code",
   "execution_count": 7,
   "metadata": {},
   "outputs": [],
   "source": [
    "# 28 * 28 = 784\n",
    "input = 784\n",
    "# 2/3 of 784 = 523.6\n",
    "hidden = 490\n",
    "# Output = [0,1,2,3,4,5,6,7,8,9]\n",
    "output = 10"
   ]
  },
  {
   "cell_type": "code",
   "execution_count": 8,
   "metadata": {},
   "outputs": [],
   "source": [
    "model = nn.Sequential(nn.Linear(input, hidden),\n",
    "                      nn.LeakyReLU(),\n",
    "                      nn.Linear(hidden, output),\n",
    "                      nn.LogSoftmax(dim=1))\n",
    "lossfn = nn.NLLLoss()\n",
    "optimize = tch.optim.SGD(model.parameters(), lr=0.003, momentum=0.9)\n"
   ]
  },
  {
   "cell_type": "code",
   "execution_count": 9,
   "metadata": {},
   "outputs": [
    {
     "name": "stdout",
     "output_type": "stream",
     "text": [
      "Epoch Number : 0 = Loss : 0.5112158343158663\n",
      "Epoch Number : 1 = Loss : 0.26091828272119166\n",
      "Epoch Number : 2 = Loss : 0.20548183791898192\n",
      "Epoch Number : 3 = Loss : 0.1673396202386357\n",
      "Epoch Number : 4 = Loss : 0.1408952894732356\n",
      "Epoch Number : 5 = Loss : 0.12136042751884088\n",
      "Epoch Number : 6 = Loss : 0.10648837029840798\n",
      "Epoch Number : 7 = Loss : 0.09479407053929753\n",
      "Epoch Number : 8 = Loss : 0.08527576763182879\n",
      "Epoch Number : 9 = Loss : 0.07719968226063065\n",
      "Epoch Number : 10 = Loss : 0.07081290077848826\n",
      "Epoch Number : 11 = Loss : 0.06479796985141002\n",
      "Epoch Number : 12 = Loss : 0.05967275606968906\n",
      "Epoch Number : 13 = Loss : 0.05545506099495105\n",
      "Epoch Number : 14 = Loss : 0.05137454441015143\n",
      "Epoch Number : 15 = Loss : 0.047821963950933424\n",
      "Epoch Number : 16 = Loss : 0.04466320404139697\n",
      "Epoch Number : 17 = Loss : 0.04196302186709363\n",
      "\n",
      "Training Time (in minutes) :  1.3857248504956563\n"
     ]
    }
   ],
   "source": [
    "optimize = tch.optim.SGD(model.parameters(), lr=0.003, momentum=0.9)\n",
    "time_start = time()\n",
    "epochs = 18\n",
    "for num in range(epochs):\n",
    "    run = 0\n",
    "    for images, labels in train_batch:\n",
    "        images = images.view(images.shape[0], -1)\n",
    "        optimize.zero_grad()\n",
    "        output = model(images)\n",
    "        loss = lossfn(output, labels)\n",
    "        loss.backward()\n",
    "        optimize.step()\n",
    "        run += loss.item()\n",
    "    else:\n",
    "        print(\"Epoch Number : {} = Loss : {}\".format(num, run/len(train_batch)))\n",
    "Elapsed = (time()-time_start)/60\n",
    "print(\"\\nTraining Time (in minutes) : \", Elapsed)"
   ]
  },
  {
   "cell_type": "code",
   "execution_count": 10,
   "metadata": {},
   "outputs": [],
   "source": [
    "correct = 0\n",
    "all = 0\n",
    "for images, labels in test:\n",
    "    img = images.view(1, 784)\n",
    "    with tch.no_grad():\n",
    "        logps = model(img)\n",
    "    ps = tch.exp(logps)\n",
    "    probab = list(ps.numpy()[0])\n",
    "    prediction = probab.index(max(probab))\n",
    "    truth = labels\n",
    "    if (truth == prediction):\n",
    "        correct += 1\n",
    "    all += 1"
   ]
  },
  {
   "cell_type": "code",
   "execution_count": 11,
   "metadata": {},
   "outputs": [
    {
     "name": "stdout",
     "output_type": "stream",
     "text": [
      "Number Of Images Tested :  10000\n",
      "Model Accuracy :  0.9788\n"
     ]
    }
   ],
   "source": [
    "print(\"Number Of Images Tested : \", all)\n",
    "print(\"Model Accuracy : \", (correct/all))\n",
    "\n",
    "tch.save(model, './mnist_model.pt')\n"
   ]
  },
  {
   "cell_type": "code",
   "execution_count": 12,
   "metadata": {},
   "outputs": [
    {
     "name": "stdout",
     "output_type": "stream",
     "text": [
      "Predicted Digit = 7\n"
     ]
    },
    {
     "data": {
      "image/png": "[encoded data removed]",
      "text/plain": [
       "<Figure size 600x900 with 2 Axes>"
      ]
     },
     "metadata": {},
     "output_type": "display_data"
    }
   ],
   "source": [
    "import numpy as np\n",
    "\n",
    "\n",
    "def view_classify(img, ps):\n",
    "    ps = ps.cpu().data.numpy().squeeze()\n",
    "    fig, (ax1, ax2) = plt.subplots(figsize=(6, 9), ncols=2)\n",
    "    ax1.imshow(img.resize_(1, 28, 28).numpy().squeeze())\n",
    "    ax1.axis('off')\n",
    "    ax2.barh(np.arange(10), ps)\n",
    "    ax2.set_aspect(0.1)\n",
    "    ax2.set_yticks(np.arange(10))\n",
    "    ax2.set_yticklabels(np.arange(10))\n",
    "    ax2.set_title('Class Probability')\n",
    "    ax2.set_xlim(0, 1.1)\n",
    "    plt.tight_layout()\n",
    "\n",
    "\n",
    "img, label = train[np.random.randint(0, 10001)]\n",
    "image = img.view(1, 784)\n",
    "with tch.no_grad():\n",
    "    logps = model(image)\n",
    "ps = tch.exp(logps)\n",
    "probab = list(ps.numpy()[0])\n",
    "print(\"Predicted Digit =\", probab.index(max(probab)))\n",
    "view_classify(image.view(1, 28, 28), ps)"
   ]
  }
 ],
 "metadata": {
  "kernelspec": {
   "display_name": "base",
   "language": "python",
   "name": "python3"
  },
  "language_info": {
   "codemirror_mode": {
    "name": "ipython",
    "version": 3
   },
   "file_extension": ".py",
   "mimetype": "text/x-python",
   "name": "python",
   "nbconvert_exporter": "python",
   "pygments_lexer": "ipython3",
   "version": "3.11.4"
  }
 },
 "nbformat": 4,
 "nbformat_minor": 2
}
