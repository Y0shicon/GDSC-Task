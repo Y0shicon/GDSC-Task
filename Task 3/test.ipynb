{
 "cells": [
  {
   "cell_type": "code",
   "execution_count": 2,
   "metadata": {},
   "outputs": [],
   "source": [
    "import numpy as np\n",
    "import pandas as pd\n",
    "import matplotlib.pyplot as plt\n",
    "import seaborn as sns\n",
    "import torch as tch\n",
    "from torch.utils.data import DataLoader\n",
    "import torchvision.datasets as dt\n",
    "import torchvision.transforms as trans\n",
    "import torch.nn as nn\n",
    "\n",
    "from time import time"
   ]
  },
  {
   "cell_type": "code",
   "execution_count": 3,
   "metadata": {},
   "outputs": [],
   "source": [
    "train = dt.MNIST(root=\"./datasets\", train=True, transform=trans.ToTensor(), download=True) \n",
    "test = dt.MNIST(root=\"./datasets\", train=False, transform=trans.ToTensor(), download=True) "
   ]
  },
  {
   "cell_type": "code",
   "execution_count": 4,
   "metadata": {},
   "outputs": [
    {
     "name": "stdout",
     "output_type": "stream",
     "text": [
      "No. of Training examples:  60000\n",
      "No. of Test examples:  10000\n"
     ]
    }
   ],
   "source": [
    "print(\"No. of Training examples: \",len(train)) \n",
    "print(\"No. of Test examples: \",len(test)) "
   ]
  },
  {
   "cell_type": "code",
   "execution_count": 5,
   "metadata": {},
   "outputs": [
    {
     "name": "stdout",
     "output_type": "stream",
     "text": [
      "\n",
      "The Number is :  7 \n",
      "\n"
     ]
    },
    {
     "data": {
      "image/png": "[encoded data removed]",
      "text/plain": [
       "<Figure size 640x480 with 1 Axes>"
      ]
     },
     "metadata": {},
     "output_type": "display_data"
    }
   ],
   "source": [
    "image,label = test[0] #to display the first image in test dataset along with its corresponding number\n",
    "plt.imshow(image.numpy().squeeze(), cmap='gray_r');\n",
    "print(\"\\nThe Number is : \" ,label,\"\\n\")"
   ]
  },
  {
   "cell_type": "code",
   "execution_count": 20,
   "metadata": {},
   "outputs": [
    {
     "name": "stdout",
     "output_type": "stream",
     "text": [
      "torch.Size([1, 784])\n",
      "<class 'int'>\n"
     ]
    }
   ],
   "source": [
    "print(image.shape) #shape of the image\n",
    "print(type(label)) #shape of the label"
   ]
  },
  {
   "cell_type": "code",
   "execution_count": 6,
   "metadata": {},
   "outputs": [],
   "source": [
    "train_batch = DataLoader(train, batch_size=30, shuffle=True) "
   ]
  },
  {
   "cell_type": "code",
   "execution_count": 7,
   "metadata": {},
   "outputs": [],
   "source": [
    "# 28 * 28 = 784\n",
    "input = 784 \n",
    "# 2/3 of 784 = 523.6\n",
    "hidden = 490 \n",
    "# Output = [0,1,2,3,4,5,6,7,8,9]\n",
    "output = 10 "
   ]
  },
  {
   "cell_type": "code",
   "execution_count": 8,
   "metadata": {},
   "outputs": [],
   "source": [
    "model = nn.Sequential(nn.Linear(input, hidden), \n",
    "                       nn.LeakyReLU(), \n",
    "                       nn.Linear(hidden, output), \n",
    "                        nn.LogSoftmax(dim=1)) \n",
    "lossfn = nn.NLLLoss()\n",
    "optimize = tch.optim.SGD(model.parameters(), lr=0.003, momentum=0.9) "
   ]
  },
  {
   "cell_type": "code",
   "execution_count": 9,
   "metadata": {},
   "outputs": [
    {
     "name": "stdout",
     "output_type": "stream",
     "text": [
      "Epoch Number : 0 = Loss : 0.5090908165499568\n",
      "Epoch Number : 1 = Loss : 0.25929593153111635\n",
      "Epoch Number : 2 = Loss : 0.20480677374731748\n",
      "Epoch Number : 3 = Loss : 0.16806457341322675\n",
      "Epoch Number : 4 = Loss : 0.1421464279270731\n",
      "Epoch Number : 5 = Loss : 0.12259190074680373\n",
      "Epoch Number : 6 = Loss : 0.10794415134005249\n",
      "Epoch Number : 7 = Loss : 0.09613242821837775\n",
      "Epoch Number : 8 = Loss : 0.0862211503169965\n",
      "Epoch Number : 9 = Loss : 0.07833972753060515\n",
      "Epoch Number : 10 = Loss : 0.07147432494885288\n",
      "Epoch Number : 11 = Loss : 0.06561983072722796\n",
      "Epoch Number : 12 = Loss : 0.06048045613826253\n",
      "Epoch Number : 13 = Loss : 0.05584723454748746\n",
      "Epoch Number : 14 = Loss : 0.05183727597986581\n",
      "Epoch Number : 15 = Loss : 0.04825646983407205\n",
      "Epoch Number : 16 = Loss : 0.04501161235204199\n",
      "Epoch Number : 17 = Loss : 0.041959020638896616\n",
      "\n",
      "Training Time (in minutes) :  1.2832916855812073\n"
     ]
    }
   ],
   "source": [
    "optimize = tch.optim.SGD(model.parameters(), lr=0.003, momentum=0.9) \n",
    "time_start = time() \n",
    "epochs = 18 \n",
    "for num in range(epochs): \n",
    "     run=0 \n",
    "     for images, labels in train_batch: \n",
    "         images = images.view(images.shape[0], -1) \n",
    "         optimize.zero_grad() \n",
    "         output = model(images) \n",
    "         loss = lossfn(output, labels) \n",
    "         loss.backward() \n",
    "         optimize.step() \n",
    "         run += loss.item() \n",
    "     else: \n",
    "         print(\"Epoch Number : {} = Loss : {}\".format(num, run/len(train_batch))) \n",
    "Elapsed=(time()-time_start)/60 \n",
    "print(\"\\nTraining Time (in minutes) : \",Elapsed) "
   ]
  },
  {
   "cell_type": "code",
   "execution_count": 10,
   "metadata": {},
   "outputs": [],
   "source": [
    "correct=0\n",
    "all = 0\n",
    "for images,labels in test:\n",
    "  img = images.view(1, 784)\n",
    "  with tch.no_grad():\n",
    "    logps = model(img)   \n",
    "  ps = tch.exp(logps)\n",
    "  probab = list(ps.numpy()[0])\n",
    "  prediction = probab.index(max(probab))\n",
    "  truth = labels\n",
    "  if(truth == prediction):\n",
    "    correct += 1\n",
    "  all += 1\n"
   ]
  },
  {
   "cell_type": "code",
   "execution_count": 11,
   "metadata": {},
   "outputs": [
    {
     "name": "stdout",
     "output_type": "stream",
     "text": [
      "Number Of Images Tested :  10000\n",
      "Model Accuracy :  0.9781\n"
     ]
    }
   ],
   "source": [
    "print(\"Number Of Images Tested : \", all)\n",
    "print(\"Model Accuracy : \", (correct/all))\n",
    "\n",
    "tch.save(model, './mnist_model.pt')"
   ]
  },
  {
   "cell_type": "code",
   "execution_count": 12,
   "metadata": {},
   "outputs": [
    {
     "name": "stdout",
     "output_type": "stream",
     "text": [
      "Predicted Digit = 0\n"
     ]
    },
    {
     "data": {
      "image/png": "[encoded data removed]",
      "text/plain": [
       "<Figure size 600x900 with 2 Axes>"
      ]
     },
     "metadata": {},
     "output_type": "display_data"
    }
   ],
   "source": [
    "import numpy as np\n",
    "def view_classify(img, ps):\n",
    "    ps = ps.cpu().data.numpy().squeeze()\n",
    "    fig, (ax1, ax2) = plt.subplots(figsize=(6,9), ncols=2)\n",
    "    ax1.imshow(img.resize_(1, 28, 28).numpy().squeeze())\n",
    "    ax1.axis('off')\n",
    "    ax2.barh(np.arange(10), ps)\n",
    "    ax2.set_aspect(0.1)\n",
    "    ax2.set_yticks(np.arange(10))\n",
    "    ax2.set_yticklabels(np.arange(10))\n",
    "    ax2.set_title('Class Probability')\n",
    "    ax2.set_xlim(0, 1.1)\n",
    "    plt.tight_layout()\n",
    "img,label=train[np.random.randint(0,10001)] \n",
    "image=img.view(1, 784)\n",
    "with tch.no_grad():\n",
    "  logps = model(image)\n",
    "ps = tch.exp(logps)\n",
    "probab = list(ps.numpy()[0])\n",
    "print(\"Predicted Digit =\", probab.index(max(probab)))\n",
    "view_classify(image.view(1, 28, 28), ps)"
   ]
  }
 ],
 "metadata": {
  "kernelspec": {
   "display_name": "base",
   "language": "python",
   "name": "python3"
  },
  "language_info": {
   "codemirror_mode": {
    "name": "ipython",
    "version": 3
   },
   "file_extension": ".py",
   "mimetype": "text/x-python",
   "name": "python",
   "nbconvert_exporter": "python",
   "pygments_lexer": "ipython3",
   "version": "3.11.4"
  }
 },
 "nbformat": 4,
 "nbformat_minor": 2
}
