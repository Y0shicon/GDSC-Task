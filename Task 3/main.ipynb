{
 "cells": [
  {
   "cell_type": "code",
   "execution_count": 26,
   "metadata": {},
   "outputs": [],
   "source": [
    "import numpy as np\n",
    "import pandas as pd\n",
    "import matplotlib.pyplot as plt\n",
    "import seaborn as sns\n",
    "import torch as tch\n",
    "from torch.utils.data import Dataset, DataLoader, TensorDataset, Subset\n",
    "import torchvision.transforms as trans\n",
    "import torch.nn as nn\n",
    "\n",
    "from time import time"
   ]
  },
  {
   "cell_type": "code",
   "execution_count": 27,
   "metadata": {},
   "outputs": [],
   "source": [
    "class CustomMNISTDataset(Dataset):\n",
    "    def __init__(self, data, labels, transform=None):\n",
    "        self.data = data\n",
    "        self.labels = labels\n",
    "        self.transform = transform\n",
    "\n",
    "    def __len__(self):\n",
    "        return len(self.data)\n",
    "\n",
    "    def __getitem__(self, idx):\n",
    "        image = self.data[idx]\n",
    "        label = self.labels[idx]\n",
    "\n",
    "        if self.transform:\n",
    "            image = self.transform(image)\n",
    "\n",
    "        return image, label"
   ]
  },
  {
   "cell_type": "code",
   "execution_count": 28,
   "metadata": {},
   "outputs": [],
   "source": [
    "# Load your NumPy data and labels\n",
    "data = np.load('dataset.npy')\n",
    "labels = np.load('labels.npy')"
   ]
  },
  {
   "cell_type": "code",
   "execution_count": 29,
   "metadata": {},
   "outputs": [],
   "source": [
    "# Define the size of the training set (e.g., 80%)\n",
    "train_size = int(0.8 * len(data))\n",
    "test_size = len(data) - train_size"
   ]
  },
  {
   "cell_type": "code",
   "execution_count": 30,
   "metadata": {},
   "outputs": [],
   "source": [
    "# Split the data and labels into training and testing subsets\n",
    "train_data, test_data = np.split(data, [train_size])\n",
    "train_labels, test_labels = np.split(labels, [train_size])\n"
   ]
  },
  {
   "cell_type": "code",
   "execution_count": 31,
   "metadata": {},
   "outputs": [],
   "source": [
    "# Create custom datasets\n",
    "train_dataset = CustomMNISTDataset(train_data, train_labels, transform=trans.ToTensor())\n",
    "test_dataset = CustomMNISTDataset(test_data, test_labels, transform=trans.ToTensor())"
   ]
  },
  {
   "cell_type": "code",
   "execution_count": 32,
   "metadata": {},
   "outputs": [
    {
     "name": "stdout",
     "output_type": "stream",
     "text": [
      "No. of Training examples:  47996\n",
      "No. of Test examples:  11999\n"
     ]
    }
   ],
   "source": [
    "print(\"No. of Training examples: \",len(train_dataset)) \n",
    "print(\"No. of Test examples: \",len(test_dataset)) "
   ]
  },
  {
   "cell_type": "code",
   "execution_count": 33,
   "metadata": {},
   "outputs": [
    {
     "data": {
      "text/plain": [
       "tensor([[  0.,   0.,   0.,   0.,   0.,   0.,   0.,   0.,   0.,   0.,   0.,   0.,\n",
       "           0.,   0.,   0.,   0.,   0.,   0.,   0.,   0.,   0.,   0., 198.,   0.,\n",
       "          18.,   0.,   0.,   0.],\n",
       "        [  0.,   0.,   0., 253.,   0.,   0.,   0.,   0.,   0.,   0.,   0.,   0.,\n",
       "           0.,  93.,   0.,   0.,   0.,   0.,   0.,   0.,  93., 253.,   0.,   0.,\n",
       "           0.,   0.,   0.,   0.],\n",
       "        [  0.,  49., 186., 114.,   0.,   0.,   0.,   0.,   0.,   0.,   0.,   0.,\n",
       "           0., 253.,   0.,   0., 240.,   0.,   0.,   0., 253.,   0.,  81.,   0.,\n",
       "           0.,   0.,   0.,   0.],\n",
       "        [  0.,   0.,   0., 107.,   0.,   0.,   0.,  70., 251.,   0.,   0.,   0.,\n",
       "           0.,   0., 253., 241.,   0.,   0.,   0.,   0.,   0., 255.,   0.,   0.,\n",
       "           0.,   0., 253.,   0.],\n",
       "        [  0.,   0.,   0.,   0.,   0.,   0.,   0.,   0.,   0.,   0.,   0.,   0.,\n",
       "           0.,   0.,   0.,   0.,   0.,   0.,   0.,   1.,   0.,   0.,   0.,   0.,\n",
       "         253.,   0.,   0.,   0.],\n",
       "        [ 80.,   0.,   0.,   0., 253.,   0., 170.,   0.,   0.,   0.,   0.,   0.,\n",
       "           0.,   0.,  18.,   0.,   0., 253.,   0.,   0.,   0.,   0.,   0.,   0.,\n",
       "         182.,   0.,   0., 126.],\n",
       "        [  0.,   0.,   0.,   0.,   0.,   0.,   0.,  80.,   0.,   0., 253.,   0.,\n",
       "           0.,   0.,   0.,   0.,   0.,   0.,   0.,   0.,   0.,   0.,   0.,   0.,\n",
       "           0., 225.,   0.,  90.],\n",
       "        [  0.,   0.,   0.,   0., 205.,   0.,   0.,   0.,   0.,   0.,   0.,   0.,\n",
       "         247.,   0.,   0.,   0.,   0.,   0.,   0.,   0.,   0., 249., 175.,   0.,\n",
       "           0.,   0.,  11., 253.],\n",
       "        [  0.,   0.,   0.,   0.,   0.,   0.,   0.,   0., 253.,   0.,   0.,   0.,\n",
       "           0.,   0.,   0., 253.,   0.,   0.,   0., 172.,   0.,   0.,   0.,   0.,\n",
       "           0.,   0., 253., 253.],\n",
       "        [226.,  18.,   0., 249., 201.,   0.,   0.,   0.,   0., 166.,   0.,   0.,\n",
       "         253.,  81.,   0.,   0.,   0.,   0.,   0.,   0.,   0.,   0.,   0., 253.,\n",
       "           0.,   0.,   0.,   0.],\n",
       "        [  0.,   0.,   0.,   0.,   0.,   0.,   0.,   0., 187.,   0.,   0.,  56.,\n",
       "         253., 172., 238., 253., 242.,   0.,   0.,   0.,   0.,   0., 219.,   0.,\n",
       "          36.,   0.,   0., 253.],\n",
       "        [  0.,   0.,   0.,   0.,   0.,   0.,   0.,  94.,   0.,   0.,   0., 171.,\n",
       "           0.,   0.,   0.,   0.,   0.,   0.,   0., 148.,   0., 253., 212.,  45.,\n",
       "           0.,   0.,   0.,   0.],\n",
       "        [  0.,   0.,   0.,   0.,   0.,   0., 160.,   0., 253.,   0.,   0.,   0.,\n",
       "           0.,   0., 253.,  23.,   0., 244.,   0.,   0.,   0.,   0.,   0.,   0.,\n",
       "           0.,   0.,   0., 253.],\n",
       "        [  0.,   0.,   0.,   0.,  39.,   0., 253.,   0.,   0.,  46.,   0.,   0.,\n",
       "           0.,   0.,   0.,   0.,   0.,   0.,   0.,   0.,   0.,   0., 133.,   0.,\n",
       "           0.,   0.,   0.,   0.],\n",
       "        [  0., 253.,   0., 253.,   0.,   0.,   0.,   3.,   0.,   0.,   0.,   0.,\n",
       "           0., 253.,   0.,   0., 253., 253.,   0.,   0.,   0.,   0., 156.,   0.,\n",
       "         253.,   0.,   0., 253.],\n",
       "        [  0., 130.,   0.,   0.,   0.,   0.,   0.,   0.,   0., 183.,   0.,   0.,\n",
       "         247.,   0.,  18.,   0.,   0.,   0.,   0.,   0.,   0.,   0., 253.,   0.,\n",
       "           0.,   0.,  64.,   0.],\n",
       "        [136.,   0.,   0.,   0., 253.,   0.,   0.,   0.,  39.,   0.,   0.,   0.,\n",
       "           0., 221.,  11.,   0.,   0., 195., 253.,   0., 198.,   0.,   0.,   0.,\n",
       "           0.,   0.,   0.,   0.],\n",
       "        [  0., 241.,   0.,   0.,   0., 252.,   0.,   0.,   0., 154.,   0.,   0.,\n",
       "           0.,   0.,   0.,   0., 139., 150.,   0.,   0.,   0.,   0.,   0.,   0.,\n",
       "           0.,   0.,   0.,  26.],\n",
       "        [  0., 253., 225., 207.,   0.,  27.,   0.,   0.,   0., 195., 127.,   0.,\n",
       "           0., 253.,   0.,   0.,   0., 132.,   0.,   0.,   0.,   0.,   0.,   0.,\n",
       "           0.,   0.,  24.,   0.],\n",
       "        [  0., 190.,   0.,   0.,   0.,   0.,   0.,   0.,   0.,   0.,   0.,   0.,\n",
       "           0.,   0.,   9.,   0.,   0.,   0.,   0.,   0.,   0.,   0.,   0.,   0.,\n",
       "         253.,   0.,   0.,   0.],\n",
       "        [  0.,   0.,  14.,   0.,   0.,  18.,   0.,   0.,   0.,   0.,   0.,   0.,\n",
       "           0.,   0.,   0.,   0.,   0.,   0.,   0., 229.,  78.,   0.,   0., 253.,\n",
       "           0.,  82.,   0.,  55.],\n",
       "        [  0.,   0., 253.,   0.,  11., 253.,   0., 253.,   0.,   0., 108.,  82.,\n",
       "           0., 190.,   0.,   0., 253., 253., 182.,   0.,   0.,   0., 219.,   2.,\n",
       "           0.,   0.,   0.,   0.],\n",
       "        [  0.,   0.,   0.,   0.,   0.,  16.,   0.,   0.,   0.,   0.,   0.,   0.,\n",
       "           0.,  66.,   0.,   0.,   2.,   0.,   0.,   0., 119.,   0.,   0.,   0.,\n",
       "           0.,  43.,   0.,   0.],\n",
       "        [  0.,   0.,   0.,   0.,   0.,   0.,   0., 253.,   0.,   0.,   0.,   0.,\n",
       "           0., 253.,   0.,   0.,   0.,   0.,   0.,   0.,   0.,   0.,   0.,  25.,\n",
       "           0., 253.,   0.,   0.],\n",
       "        [  0., 253.,   0.,  35.,   0.,   0., 135.,   0.,   0.,   0.,   0.,   0.,\n",
       "           0.,   0.,   0.,   0., 154.,   0.,   2.,   0.,   0.,   0.,   0.,   0.,\n",
       "           0.,   0.,   0.,   0.],\n",
       "        [  0.,   0.,   0., 154.,   0.,   0.,   0.,   0.,   0.,   0.,   0.,   0.,\n",
       "           0.,   0.,   0.,   0.,   0.,   0.,   1.,   0., 253.,   0.,   0.,   0.,\n",
       "           0.,   0.,   0.,   0.],\n",
       "        [  0.,   0., 253.,   0.,   0.,   0.,   0., 253.,   0.,   0.,   0.,   0.,\n",
       "           0.,   0.,   0.,   0.,   0.,   0., 253.,   0.,   0.,   0.,   0.,  30.,\n",
       "           0.,   0.,   0.,   0.],\n",
       "        [  0.,   0.,   0.,   0., 136.,   0.,   0.,   0., 250.,   0.,   0.,   0.,\n",
       "           0., 253.,   0.,   0., 213.,   0.,   0.,   0.,   0.,   0.,   0.,   0.,\n",
       "          64., 253.,   0.,  16.]], dtype=torch.float64)"
      ]
     },
     "execution_count": 33,
     "metadata": {},
     "output_type": "execute_result"
    }
   ],
   "source": [
    "train_dataset[0][0][0]"
   ]
  },
  {
   "cell_type": "code",
   "execution_count": 34,
   "metadata": {},
   "outputs": [
    {
     "name": "stdout",
     "output_type": "stream",
     "text": [
      "\n",
      "The Number is :  4 \n",
      "\n"
     ]
    },
    {
     "data": {
      "image/png": "[encoded data removed]",
      "text/plain": [
       "<Figure size 640x480 with 1 Axes>"
      ]
     },
     "metadata": {},
     "output_type": "display_data"
    }
   ],
   "source": [
    "image,label = test_dataset[0] #to display the first image in test dataset along with its corresponding number\n",
    "plt.imshow(image.numpy().squeeze(), cmap='gray_r');\n",
    "print(\"\\nThe Number is : \" ,label,\"\\n\")"
   ]
  },
  {
   "cell_type": "code",
   "execution_count": 35,
   "metadata": {},
   "outputs": [
    {
     "name": "stdout",
     "output_type": "stream",
     "text": [
      "Shape of image :  torch.Size([1, 28, 28])\n",
      "Shape of label :  ()\n"
     ]
    }
   ],
   "source": [
    "print(\"Shape of image : \",image.shape)\n",
    "print(\"Shape of label : \",label.shape)"
   ]
  },
  {
   "cell_type": "code",
   "execution_count": 36,
   "metadata": {},
   "outputs": [],
   "source": [
    "train_loader = DataLoader(train_dataset, batch_size=30, shuffle=True) \n",
    "test_loader = DataLoader(test_dataset, batch_size=30, shuffle=False)"
   ]
  },
  {
   "cell_type": "code",
   "execution_count": 37,
   "metadata": {},
   "outputs": [],
   "source": [
    "# 28 * 28 = 784\n",
    "input1 = 784 \n",
    "# 2/3 of 784 = 523.6\n",
    "hidden = 523\n",
    "# Output = [0,1,2,3,4,5,6,7,8,9]\n",
    "output = 10 "
   ]
  },
  {
   "cell_type": "code",
   "execution_count": 38,
   "metadata": {},
   "outputs": [],
   "source": [
    "model = nn.Sequential(nn.Linear(input1, hidden), \n",
    "                       nn.LeakyReLU(), \n",
    "                       nn.Linear(hidden, output), \n",
    "                        nn.LogSoftmax(dim=1)) \n",
    "lossfn = nn.NLLLoss()\n",
    "optimize = tch.optim.SGD(model.parameters(), lr=0.001, momentum=0.9) "
   ]
  },
  {
   "cell_type": "code",
   "execution_count": 39,
   "metadata": {},
   "outputs": [
    {
     "name": "stdout",
     "output_type": "stream",
     "text": [
      "Epoch Number : 0 = Loss : nan\n",
      "Epoch Number : 1 = Loss : nan\n",
      "Epoch Number : 2 = Loss : nan\n",
      "Epoch Number : 3 = Loss : nan\n",
      "Epoch Number : 4 = Loss : nan\n",
      "Epoch Number : 5 = Loss : nan\n",
      "Epoch Number : 6 = Loss : nan\n",
      "Epoch Number : 7 = Loss : nan\n",
      "Epoch Number : 8 = Loss : nan\n",
      "Epoch Number : 9 = Loss : nan\n",
      "Epoch Number : 10 = Loss : nan\n",
      "Epoch Number : 11 = Loss : nan\n",
      "Epoch Number : 12 = Loss : nan\n",
      "Epoch Number : 13 = Loss : nan\n",
      "Epoch Number : 14 = Loss : nan\n",
      "Epoch Number : 15 = Loss : nan\n",
      "Epoch Number : 16 = Loss : nan\n",
      "Epoch Number : 17 = Loss : nan\n",
      "\n",
      "Training Time (in minutes) :  0.7667942841847738\n"
     ]
    }
   ],
   "source": [
    "time_start = time() \n",
    "epochs = 18 \n",
    "for num in range(epochs): \n",
    "     run=0 \n",
    "     for images, labels in train_loader: \n",
    "         images = images.view(images.shape[0], -1).to(dtype=tch.float32)  # Ensure the data type is consistent\n",
    "         optimize.zero_grad() \n",
    "         output = model(images) \n",
    "         loss = lossfn(output, labels) \n",
    "         loss.backward() \n",
    "         optimize.step() \n",
    "         run += loss.item() \n",
    "     else: \n",
    "         print(\"Epoch Number : {} = Loss : {}\".format(num, run/len(train_loader))) \n",
    "Elapsed=(time()-time_start)/60 \n",
    "print(\"\\nTraining Time (in minutes) : \",Elapsed) "
   ]
  },
  {
   "cell_type": "code",
   "execution_count": 40,
   "metadata": {},
   "outputs": [
    {
     "name": "stdout",
     "output_type": "stream",
     "text": [
      "Number Of Images Tested :  11999\n",
      "Model Accuracy :  0.099591632636053\n"
     ]
    }
   ],
   "source": [
    "correct=0\n",
    "all = 0\n",
    "for images,labels in test_dataset:\n",
    "  img = images.view(1, 784).to(dtype=tch.float32)\n",
    "  with tch.no_grad():\n",
    "    logps = model(img)   \n",
    "  ps = tch.exp(logps)\n",
    "  probab = list(ps.numpy()[0])\n",
    "  prediction = probab.index(max(probab))\n",
    "  truth = labels\n",
    "  if(truth == prediction):\n",
    "    correct += 1\n",
    "  all += 1\n",
    "\n",
    "print(\"Number Of Images Tested : \", all)\n",
    "print(\"Model Accuracy : \", (correct/all))"
   ]
  },
  {
   "cell_type": "code",
   "execution_count": 41,
   "metadata": {},
   "outputs": [
    {
     "name": "stdout",
     "output_type": "stream",
     "text": [
      "Predicted Digit = 0\n"
     ]
    },
    {
     "data": {
      "image/png": "[encoded data removed]",
      "text/plain": [
       "<Figure size 600x900 with 2 Axes>"
      ]
     },
     "metadata": {},
     "output_type": "display_data"
    }
   ],
   "source": [
    "import numpy as np\n",
    "def view_classify(img, ps):\n",
    "    ps = ps.cpu().data.numpy().squeeze()\n",
    "    fig, (ax1, ax2) = plt.subplots(figsize=(6,9), ncols=2)\n",
    "    ax1.imshow(img.resize_(1, 28, 28).numpy().squeeze())\n",
    "    ax1.axis('off')\n",
    "    ax2.barh(np.arange(10), ps)\n",
    "    ax2.set_aspect(0.1)\n",
    "    ax2.set_yticks(np.arange(10))\n",
    "    ax2.set_yticklabels(np.arange(10))\n",
    "    ax2.set_title('Class Probability')\n",
    "    ax2.set_xlim(0, 1.1)\n",
    "    plt.tight_layout()\n",
    "img,label=train_dataset[np.random.randint(0,10001)] \n",
    "image=img.view(1, 784).to(dtype=tch.float32)\n",
    "with tch.no_grad():\n",
    "  logps = model(image)\n",
    "ps = tch.exp(logps)\n",
    "probab = list(ps.numpy()[0])\n",
    "print(\"Predicted Digit =\", probab.index(max(probab)))\n",
    "view_classify(image.view(1, 28, 28), ps)"
   ]
  },
  {
   "cell_type": "code",
   "execution_count": 42,
   "metadata": {},
   "outputs": [
    {
     "ename": "ValueError",
     "evalue": "Type must be a sub-type of ndarray type",
     "output_type": "error",
     "traceback": [
      "\u001b[0;31m---------------------------------------------------------------------------\u001b[0m",
      "\u001b[0;31mValueError\u001b[0m                                Traceback (most recent call last)",
      "\u001b[1;32m/Users/shreyas/Python/GDSC/Task 3/main.ipynb Cell 17\u001b[0m line \u001b[0;36m3\n\u001b[1;32m      <a href='vscode-notebook-cell:/Users/shreyas/Python/GDSC/Task%203/main.ipynb#X22sZmlsZQ%3D%3D?line=0'>1</a>\u001b[0m \u001b[39m# Importing an image from the images folder\u001b[39;00m\n\u001b[1;32m      <a href='vscode-notebook-cell:/Users/shreyas/Python/GDSC/Task%203/main.ipynb#X22sZmlsZQ%3D%3D?line=1'>2</a>\u001b[0m img \u001b[39m=\u001b[39m plt\u001b[39m.\u001b[39mimread(\u001b[39m'\u001b[39m\u001b[39mimages/im-1.png\u001b[39m\u001b[39m'\u001b[39m)\n\u001b[0;32m----> <a href='vscode-notebook-cell:/Users/shreyas/Python/GDSC/Task%203/main.ipynb#X22sZmlsZQ%3D%3D?line=2'>3</a>\u001b[0m image\u001b[39m=\u001b[39mimg\u001b[39m.\u001b[39mview(\u001b[39m1\u001b[39m, \u001b[39m784\u001b[39m)\u001b[39m.\u001b[39mto(dtype\u001b[39m=\u001b[39mtch\u001b[39m.\u001b[39mfloat32)\n\u001b[1;32m      <a href='vscode-notebook-cell:/Users/shreyas/Python/GDSC/Task%203/main.ipynb#X22sZmlsZQ%3D%3D?line=3'>4</a>\u001b[0m \u001b[39mwith\u001b[39;00m tch\u001b[39m.\u001b[39mno_grad():\n\u001b[1;32m      <a href='vscode-notebook-cell:/Users/shreyas/Python/GDSC/Task%203/main.ipynb#X22sZmlsZQ%3D%3D?line=4'>5</a>\u001b[0m   logps \u001b[39m=\u001b[39m model(image)\n",
      "\u001b[0;31mValueError\u001b[0m: Type must be a sub-type of ndarray type"
     ]
    }
   ],
   "source": [
    "# Importing an image from the images folder\n",
    "img = plt.imread('images/im-1.png')\n",
    "image=img.view(1, 784).to(dtype=tch.float32)\n",
    "with tch.no_grad():\n",
    "  logps = model(image)\n",
    "ps = tch.exp(logps)\n",
    "probab = list(ps.numpy()[0])\n",
    "print(\"Predicted Digit =\", probab.index(max(probab)))\n",
    "view_classify(image.view(1, 28, 28), ps)"
   ]
  }
 ],
 "metadata": {
  "kernelspec": {
   "display_name": "base",
   "language": "python",
   "name": "python3"
  },
  "language_info": {
   "codemirror_mode": {
    "name": "ipython",
    "version": 3
   },
   "file_extension": ".py",
   "mimetype": "text/x-python",
   "name": "python",
   "nbconvert_exporter": "python",
   "pygments_lexer": "ipython3",
   "version": "3.11.4"
  }
 },
 "nbformat": 4,
 "nbformat_minor": 2
}
